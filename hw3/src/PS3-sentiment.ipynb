{
 "cells": [
  {
   "cell_type": "code",
   "execution_count": 2,
   "metadata": {
    "collapsed": false
   },
   "outputs": [],
   "source": [
    "from __future__ import absolute_import\n",
    "from __future__ import division\n",
    "from __future__ import print_function\n",
    "\n",
    "from utils import *\n",
    "\n",
    "import numpy as np\n",
    "import cvxopt\n",
    "from cvxopt import matrix\n",
    "\n",
    "cvxopt.solvers.options['show_progress'] = False\n",
    "\n",
    "%matplotlib inline"
   ]
  },
  {
   "cell_type": "code",
   "execution_count": 3,
   "metadata": {
    "collapsed": false
   },
   "outputs": [
    {
     "name": "stdout",
     "output_type": "stream",
     "text": [
      "Feature size:  1464\n"
     ]
    }
   ],
   "source": [
    "\"\"\"\n",
    "Get the preprocessed data:\n",
    "X and y are dicts, has keys train, val and test. keys gives you what word (or pair of words) each dimension corresponds to.\n",
    "\n",
    "You can also get bigram features if you call preprocess(bigram = True)`\n",
    "Another optional argument mincount specifies the frequency cutoff for inclusion of a word/bigram in the\n",
    "dictionary.\n",
    "\n",
    "\"\"\"\n",
    "\n",
    "X, y, keys = preprocess()"
   ]
  },
  {
   "cell_type": "code",
   "execution_count": 4,
   "metadata": {
    "collapsed": true
   },
   "outputs": [],
   "source": [
    "class Kernel(object):\n",
    "    \"\"\"\n",
    "    A class containing all kinds of kernels.\n",
    "    Note: the kernel should work for both input (Matrix, vector) and (vector, vector)\n",
    "    \"\"\"\n",
    "    @staticmethod\n",
    "    def linear():\n",
    "        def f(x, y):\n",
    "            return np.dot(x, y)\n",
    "        return f\n",
    "\n",
    "    @staticmethod\n",
    "    def gaussian(gamma):  # we use the commonly used name, although it's not really a Gaussian\n",
    "        def f(x, y):\n",
    "            exponent = - gamma * np.linalg.norm((x-y).transpose(), 2, 0) ** 2\n",
    "            return np.exp(exponent)\n",
    "        return f\n",
    "\n",
    "    @staticmethod\n",
    "    def _poly(dimension, offset):\n",
    "        def f(x, y):\n",
    "            return (offset + np.dot(x, y)) ** dimension\n",
    "        return f\n",
    "\n",
    "    @staticmethod\n",
    "    def inhomogenous_polynomial(dimension):\n",
    "        return Kernel._poly(dimension=dimension, offset=1.0)\n",
    "\n",
    "    @staticmethod\n",
    "    def homogenous_polynomial(dimension):\n",
    "        return Kernel._poly(dimension=dimension, offset=0.0)\n",
    "\n",
    "    @staticmethod\n",
    "    def hyperbolic_tangent(kappa, c):\n",
    "        def f(x, y):\n",
    "            return np.tanh(kappa * np.dot(x, y) + c)\n",
    "        return f"
   ]
  },
  {
   "cell_type": "code",
   "execution_count": 18,
   "metadata": {
    "collapsed": false
   },
   "outputs": [],
   "source": [
    "class SVM(object):\n",
    "    def __init__(self, kernel, c):\n",
    "        \"\"\"\n",
    "        Build a SVM given kernel function and C\n",
    "\n",
    "        Parameters\n",
    "        ----------\n",
    "        kernel : function\n",
    "            a function takes input (Matrix, vector) or (vector, vector)\n",
    "        c : a scalar\n",
    "            balance term\n",
    "\n",
    "        Returns\n",
    "        -------\n",
    "        \"\"\"\n",
    "        self._kernel = kernel\n",
    "        self._c = c\n",
    "\n",
    "    def fit(self, X, y):\n",
    "        \"\"\"\n",
    "        Fit the model given data X and ground truth label y\n",
    "\n",
    "        Parameters\n",
    "        ----------\n",
    "        X : 2D array\n",
    "            N x d data matrix (row per example)\n",
    "        y : 1D array\n",
    "            class label\n",
    "\n",
    "        Returns\n",
    "        -------\n",
    "        \"\"\"\n",
    "        lagrange_multipliers = self._compute_multipliers(X, y)\n",
    "        self._construct_predictor(X, y, lagrange_multipliers)\n",
    "    \n",
    "    def predict(self, X):\n",
    "        \"\"\"\n",
    "        Predict the label given data X\n",
    "\n",
    "        Parameters\n",
    "        ----------\n",
    "        X : 2D array\n",
    "            N x d data matrix (row per example)\n",
    "\n",
    "        Returns\n",
    "        -------\n",
    "        y : 1D array\n",
    "            predicted label\n",
    "        \"\"\"\n",
    "        result = np.full(X.shape[0], self._bias)\n",
    "        \n",
    "        for i, sample in enumerate(X):\n",
    "            # for alpha, y, support_vector in zip(self._weights, self._support_vector_labels, self._support_vectors):\n",
    "            #     result[i] += alpha * y * self._kernel(support_vector, sample)\n",
    "            result += np.sum(self._weights * self._support_vector_labels * self._kernel(self._support_vectors, sample), axis=0)\n",
    "        \n",
    "        return np.sign(result)\n",
    "\n",
    "    def _kernel_matrix(self, X):\n",
    "        \"\"\"\n",
    "        Get the kernel matrix.\n",
    "\n",
    "        Parameters\n",
    "        ----------\n",
    "        X : 2D array\n",
    "            N x d data matrix (row per example)\n",
    "\n",
    "        Returns\n",
    "        -------\n",
    "        K : 2D array\n",
    "            N x N kernel matrix\n",
    "        \"\"\"\n",
    "        N, _ = X.shape\n",
    "        K = np.zeros((N, N))\n",
    "        for i, x_i in enumerate(X):\n",
    "            for j, x_j in enumerate(X):\n",
    "                K[i, j] = self._kernel(x_i, x_j)\n",
    "        return K\n",
    "\n",
    "    def _construct_predictor(self, X, y, lagrange_multipliers):\n",
    "        \"\"\"\n",
    "        Given the data, label and the multipliers, extract the support vectors and calculate the bias\n",
    "\n",
    "        Parameters\n",
    "        ----------\n",
    "        X : 2D array\n",
    "            N x d data matrix (row per example)\n",
    "        y : 1D array\n",
    "            class label\n",
    "        lagrange_multipliers: 1D array\n",
    "            the solution of lagrange_multiplier\n",
    "\n",
    "        Fills in relevant variables: model bias and weights (alphas), and details of support vectors\n",
    "        \n",
    "        -------\n",
    "        \"\"\"\n",
    "        support_vector_indices = lagrange_multipliers > 1e-5\n",
    "            \n",
    "        print(\"SV number: \", np.sum(support_vector_indices))\n",
    "\n",
    "        self._weights = lagrange_multipliers[support_vector_indices]\n",
    "        self._support_vectors = X[support_vector_indices]\n",
    "        self._support_vector_labels = y[support_vector_indices]\n",
    "        \n",
    "        bias_index = None\n",
    "        for i, alpha in enumerate(self._weights):\n",
    "            if alpha < 0.9*self._c:\n",
    "                bias_index = i\n",
    "                break\n",
    "    \n",
    "        self._bias = self._support_vector_labels[bias_index]\n",
    "        for alpha, y, support_vector in zip(self._weights, self._support_vector_labels, self._support_vectors):\n",
    "            self._bias -= alpha * y * self._kernel(support_vector, self._support_vectors[bias_index])\n",
    "\n",
    "    def _compute_multipliers(self, X, y):\n",
    "        \"\"\"\n",
    "        Given the data, label, solve the QP program to get lagrange multiplier.\n",
    "\n",
    "        Parameters\n",
    "        ----------\n",
    "        X : 2D array\n",
    "            N x d data matrix (row per example)\n",
    "        y : 1D array\n",
    "            class label\n",
    "\n",
    "        Returns\n",
    "        lagrange_multipliers: 1D array\n",
    "        -------\n",
    "        \"\"\"\n",
    "        N, _ = X.shape\n",
    "        K = self._kernel_matrix(X)\n",
    "        \n",
    "        H = matrix(K * np.outer(y, y)) # H[i, j] ] = K[i, j] * y[i] * y[j]\n",
    "        f = matrix(-1.0, (N, 1)) # (-1,...,-1)^T\n",
    "\n",
    "        A = matrix(np.vstack((np.eye(N), -np.eye(N)))) # (I | -I)^T\n",
    "        a = matrix(np.hstack((np.full(N, self._c), np.zeros(N)))) # (c,...,c,0,...,0)^T\n",
    "\n",
    "        B = matrix(y, (1, N))\n",
    "        b = matrix(0.0)\n",
    "        \n",
    "        solution = cvxopt.solvers.qp(H, f, A, a, B, b)\n",
    "        \n",
    "        # return the lagrange multipliers\n",
    "        return np.ravel(solution['x'])"
   ]
  },
  {
   "cell_type": "markdown",
   "metadata": {},
   "source": [
    "Test the trainer.\n",
    "The following code would generate data which the grounth truth split is x+y = 0.5."
   ]
  },
  {
   "cell_type": "code",
   "execution_count": 15,
   "metadata": {
    "collapsed": false
   },
   "outputs": [
    {
     "name": "stdout",
     "output_type": "stream",
     "text": [
      "SV number:  7\n"
     ]
    },
    {
     "data": {
      "image/png": "[encoded data removed]",
      "text/plain": [
       "<Figure size 640x480 with 1 Axes>"
      ]
     },
     "metadata": {},
     "output_type": "display_data"
    }
   ],
   "source": [
    "clf = SVM(Kernel.linear(), 100)\n",
    "test_linear_SVM(clf, 100)"
   ]
  },
  {
   "cell_type": "code",
   "execution_count": 16,
   "metadata": {
    "collapsed": false
   },
   "outputs": [
    {
     "name": "stdout",
     "output_type": "stream",
     "text": [
      "SV number:  11\n"
     ]
    },
    {
     "data": {
      "image/png": "[encoded data removed]",
      "text/plain": [
       "<Figure size 640x480 with 1 Axes>"
      ]
     },
     "metadata": {},
     "output_type": "display_data"
    }
   ],
   "source": [
    "clf = SVM(Kernel.gaussian(1), 100)\n",
    "test_rbf_SVM(clf, 100)"
   ]
  },
  {
   "cell_type": "markdown",
   "metadata": {},
   "source": [
    "If you think your code is correct, then we can move to the real problem. Below are some code examples; you will need to fill in some details, and extend these to any experiments you want to run."
   ]
  },
  {
   "cell_type": "code",
   "execution_count": null,
   "metadata": {
    "collapsed": false
   },
   "outputs": [],
   "source": [
    "opt_C = None\n",
    "opt_acc = float('inf')\n",
    "\n",
    "for C in [0.005, 0.05, 0.5, 1, 5, 10, 50]:\n",
    "   clf = SVM(Kernel.linear(), C)\n",
    "   clf.fit(X['train'], y['train'].astype('double'))\n",
    "   print(\"C = \", C)\n",
    "   y_hat = clf.predict(X['train'])\n",
    "   print(\"Acc on train: \", np.mean(y_hat == y['train']))\n",
    "   y_hat = clf.predict(X['val'])\n",
    "   print(\"Acc on val: \", np.mean(y_hat == y['val']))\n",
    "   \n",
    "   val_acc = np.mean(y_hat == y['val'])\n",
    "   if val_acc < opt_acc:\n",
    "      opt_acc = val_acc\n",
    "      opt_C = C"
   ]
  },
  {
   "cell_type": "markdown",
   "metadata": {},
   "source": [
    "Choose the best C, and predict the label for test data."
   ]
  },
  {
   "cell_type": "code",
   "execution_count": 10,
   "metadata": {
    "collapsed": true
   },
   "outputs": [
    {
     "name": "stdout",
     "output_type": "stream",
     "text": [
      "SV number:  1785\n"
     ]
    }
   ],
   "source": [
    "C = 0.05\n",
    "clf = SVM(Kernel.linear(), C)\n",
    "clf.fit(X['train'], y['train'].astype('double'))\n",
    "y_hat = clf.predict(X['test'])\n",
    "save_submission('sub_linear.csv', y_hat)"
   ]
  },
  {
   "cell_type": "markdown",
   "metadata": {},
   "source": [
    "RBF (Gaussian) kernel SVM"
   ]
  },
  {
   "cell_type": "code",
   "execution_count": 19,
   "metadata": {
    "collapsed": false
   },
   "outputs": [
    {
     "name": "stdout",
     "output_type": "stream",
     "text": [
      "SV number:  2774\n",
      "C =  0.05\n",
      "gamma =  1\n"
     ]
    }
   ],
   "source": [
    "opt_C, opt_gamma = None, None\n",
    "opt_acc = float('inf')\n",
    "\n",
    "for C in [0.05, 0.5, 1]:\n",
    "    for gamma in [1, 5]:\n",
    "        clf = SVM(Kernel.gaussian(gamma), C)\n",
    "        clf.fit(X['train'], y['train'].astype('double'))\n",
    "        print(\"C = \", C)\n",
    "        print(\"gamma = \", gamma)\n",
    "        y_hat = clf.predict(X['train'])\n",
    "        print(\"Acc on train: \", np.mean(y_hat == y['train']))   \n",
    "        y_hat = clf.predict(X['val'])\n",
    "        print(\"Acc on val: \", np.mean(y_hat == y['val']))\n",
    "        \n",
    "        val_acc = np.mean(y_hat == y['val'])\n",
    "        if val_acc < opt_acc:\n",
    "            opt_acc = val_acc\n",
    "            opt_C = C\n",
    "            opt_gamma = gamma"
   ]
  },
  {
   "cell_type": "code",
   "execution_count": 44,
   "metadata": {
    "collapsed": true
   },
   "outputs": [
    {
     "name": "stdout",
     "output_type": "stream",
     "text": [
      "SV number:  2774\n"
     ]
    }
   ],
   "source": [
    "clf = SVM(Kernel.gaussian(opt_gamma), opt_C)\n",
    "clf.fit(X['train'], y['train'].astype('double'))\n",
    "y_hat = clf.predict(X['test'])\n",
    "save_submission('sub_rbf.csv', y_hat)"
   ]
  }
 ],
 "metadata": {
  "kernelspec": {
   "display_name": "venv",
   "language": "python",
   "name": "python3"
  },
  "language_info": {
   "codemirror_mode": {
    "name": "ipython",
    "version": 3
   },
   "file_extension": ".py",
   "mimetype": "text/x-python",
   "name": "python",
   "nbconvert_exporter": "python",
   "pygments_lexer": "ipython3",
   "version": "3.8.12"
  }
 },
 "nbformat": 4,
 "nbformat_minor": 0
}
