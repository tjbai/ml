{
 "cells": [
  {
   "cell_type": "code",
   "execution_count": 132,
   "metadata": {
    "collapsed": false
   },
   "outputs": [],
   "source": [
    "from __future__ import absolute_import\n",
    "from __future__ import division\n",
    "from __future__ import print_function\n",
    "\n",
    "from utils import *\n",
    "\n",
    "import numpy as np\n",
    "import cvxopt\n",
    "from cvxopt import matrix\n",
    "\n",
    "cvxopt.solvers.options['show_progress'] = False\n",
    "\n",
    "%matplotlib inline"
   ]
  },
  {
   "cell_type": "code",
   "execution_count": 15,
   "metadata": {
    "collapsed": false
   },
   "outputs": [
    {
     "name": "stdout",
     "output_type": "stream",
     "text": [
      "Feature size:  1464\n"
     ]
    }
   ],
   "source": [
    "\"\"\"\n",
    "Get the preprocessed data:\n",
    "X and y are dicts, has keys train, val and test. keys gives you what word (or pair of words) each dimension corresponds to.\n",
    "\n",
    "You can also get bigram features if you call preprocess(bigram = True)`\n",
    "Another optional argument mincount specifies the frequency cutoff for inclusion of a word/bigram in the\n",
    "dictionary.\n",
    "\n",
    "\"\"\"\n",
    "\n",
    "X, y, keys = preprocess()"
   ]
  },
  {
   "cell_type": "code",
   "execution_count": 16,
   "metadata": {
    "collapsed": true
   },
   "outputs": [],
   "source": [
    "class Kernel(object):\n",
    "    \"\"\"\n",
    "    A class containing all kinds of kernels.\n",
    "    Note: the kernel should work for both input (Matrix, vector) and (vector, vector)\n",
    "    \"\"\"\n",
    "    @staticmethod\n",
    "    def linear():\n",
    "        def f(x, y):\n",
    "            return np.dot(x, y)\n",
    "        return f\n",
    "\n",
    "    @staticmethod\n",
    "    def gaussian(gamma):  # we use the commonly used name, although it's not really a Gaussian\n",
    "        def f(x, y):\n",
    "            exponent = - gamma * np.linalg.norm((x-y).transpose(), 2, 0) ** 2\n",
    "            return np.exp(exponent)\n",
    "        return f\n",
    "\n",
    "    @staticmethod\n",
    "    def _poly(dimension, offset):\n",
    "        def f(x, y):\n",
    "            return (offset + np.dot(x, y)) ** dimension\n",
    "        return f\n",
    "\n",
    "    @staticmethod\n",
    "    def inhomogenous_polynomial(dimension):\n",
    "        return Kernel._poly(dimension=dimension, offset=1.0)\n",
    "\n",
    "    @staticmethod\n",
    "    def homogenous_polynomial(dimension):\n",
    "        return Kernel._poly(dimension=dimension, offset=0.0)\n",
    "\n",
    "    @staticmethod\n",
    "    def hyperbolic_tangent(kappa, c):\n",
    "        def f(x, y):\n",
    "            return np.tanh(kappa * np.dot(x, y) + c)\n",
    "        return f"
   ]
  },
  {
   "cell_type": "code",
   "execution_count": 166,
   "metadata": {
    "collapsed": false
   },
   "outputs": [],
   "source": [
    "class SVM(object):\n",
    "    def __init__(self, kernel, c):\n",
    "        \"\"\"\n",
    "        Build a SVM given kernel function and C\n",
    "\n",
    "        Parameters\n",
    "        ----------\n",
    "        kernel : function\n",
    "            a function takes input (Matrix, vector) or (vector, vector)\n",
    "        c : a scalar\n",
    "            balance term\n",
    "\n",
    "        Returns\n",
    "        -------\n",
    "        \"\"\"\n",
    "        self._kernel = kernel\n",
    "        self._c = c\n",
    "\n",
    "    def fit(self, X, y):\n",
    "        \"\"\"\n",
    "        Fit the model given data X and ground truth label y\n",
    "\n",
    "        Parameters\n",
    "        ----------\n",
    "        X : 2D array\n",
    "            N x d data matrix (row per example)\n",
    "        y : 1D array\n",
    "            class label\n",
    "\n",
    "        Returns\n",
    "        -------\n",
    "        \"\"\"\n",
    "        lagrange_multipliers = self._compute_multipliers(X, y)\n",
    "        self._construct_predictor(X, y, lagrange_multipliers)\n",
    "    \n",
    "    def predict(self, X):\n",
    "        \"\"\"\n",
    "        Predict the label given data X\n",
    "\n",
    "        Parameters\n",
    "        ----------\n",
    "        X : 2D array\n",
    "            N x d data matrix (row per example)\n",
    "\n",
    "        Returns\n",
    "        -------\n",
    "        y : 1D array\n",
    "            predicted label\n",
    "        \"\"\"\n",
    "        result = np.full(X.shape[0], self._bias)\n",
    "        \n",
    "        for i, sample in enumerate(X):\n",
    "            result[i] += self._kernel(self._weight_vector, sample)\n",
    "        \n",
    "        return np.sign(result)\n",
    "\n",
    "    def _kernel_matrix(self, X):\n",
    "        \"\"\"\n",
    "        Get the kernel matrix.\n",
    "\n",
    "        Parameters\n",
    "        ----------\n",
    "        X : 2D array\n",
    "            N x d data matrix (row per example)\n",
    "\n",
    "        Returns\n",
    "        -------\n",
    "        K : 2D array\n",
    "            N x N kernel matrix\n",
    "        \"\"\"\n",
    "        N, _ = X.shape\n",
    "        K = np.zeros((N, N))\n",
    "        for i, x_i in enumerate(X):\n",
    "            for j, x_j in enumerate(X):\n",
    "                K[i, j] = self._kernel(x_i, x_j)\n",
    "        return K\n",
    "\n",
    "    def _construct_predictor(self, X, y, lagrange_multipliers):\n",
    "        \"\"\"\n",
    "        Given the data, label and the multipliers, extract the support vectors and calculate the bias\n",
    "\n",
    "        Parameters\n",
    "        ----------\n",
    "        X : 2D array\n",
    "            N x d data matrix (row per example)\n",
    "        y : 1D array\n",
    "            class label\n",
    "        lagrange_multipliers: 1D array\n",
    "            the solution of lagrange_multiplier\n",
    "\n",
    "        Fills in relevant variables: model bias and weights (alphas), and details of support vectors\n",
    "        \n",
    "        -------\n",
    "        \"\"\"\n",
    "        support_vector_indices = lagrange_multipliers > 1e-5\n",
    "            \n",
    "        print(\"SV number: \", np.sum(support_vector_indices))\n",
    "\n",
    "        self._lagrange_multipliers = lagrange_multipliers[support_vector_indices]\n",
    "        self._support_vectors = X[support_vector_indices]\n",
    "        self._support_vector_labels = y[support_vector_indices]\n",
    "    \n",
    "        self._weight_vector = np.sum(\n",
    "            self._lagrange_multipliers * self._support_vector_labels * self._support_vectors.T,\n",
    "            axis=1\n",
    "        )\n",
    "        \n",
    "        self._bias = sum(self._support_vector_labels - np.dot(self._support_vectors, self._weight_vector)) / len(support_vector_indices)\n",
    "        \n",
    "\n",
    "    def _compute_multipliers(self, X, y):\n",
    "        \"\"\"\n",
    "        Given the data, label, solve the QP program to get lagrange multiplier.\n",
    "\n",
    "        Parameters\n",
    "        ----------\n",
    "        X : 2D array\n",
    "            N x d data matrix (row per example)\n",
    "        y : 1D array\n",
    "            class label\n",
    "\n",
    "        Returns\n",
    "        lagrange_multipliers: 1D array\n",
    "        -------\n",
    "        \"\"\"\n",
    "        N, _ = X.shape\n",
    "        K = self._kernel_matrix(X)\n",
    "        \n",
    "        H = matrix(K * np.outer(y, y)) # H[i, j] ] = K[i, j] * y[i] * y[j]\n",
    "        f = matrix(-1.0, (N, 1)) # (-1,...,-1)^T\n",
    "\n",
    "        A = matrix(np.vstack((np.eye(N), -np.eye(N)))) # (I | -I)^T\n",
    "        a = matrix(np.hstack((np.full(N, self._c), np.zeros(N)))) # (c,...,c,0,...,0)^T\n",
    "\n",
    "        B = matrix(y, (1, N))\n",
    "        b = matrix(0.0)\n",
    "        \n",
    "        solution = cvxopt.solvers.qp(H, f, A, a, B, b)\n",
    "        \n",
    "        # return the lagrange multipliers\n",
    "        return np.ravel(solution['x'])"
   ]
  },
  {
   "cell_type": "markdown",
   "metadata": {},
   "source": [
    "Test the trainer.\n",
    "The following code would generate data which the grounth truth split is x+y = 0.5."
   ]
  },
  {
   "cell_type": "code",
   "execution_count": 167,
   "metadata": {
    "collapsed": false
   },
   "outputs": [
    {
     "name": "stdout",
     "output_type": "stream",
     "text": [
      "[[ 0.17972892 -0.46535722  0.07755504 ... -0.03184202 -0.29607151\n",
      "  -0.06232554]\n",
      " [-0.46535722  1.21200197 -0.27613521 ...  0.03155992  0.7450428\n",
      "   0.24142364]\n",
      " [ 0.07755504 -0.27613521  0.8336834  ...  0.52682458  0.10117594\n",
      "  -0.87726227]\n",
      " ...\n",
      " [-0.03184202  0.03155992  0.52682458 ...  0.37080489  0.20710417\n",
      "  -0.56340057]\n",
      " [-0.29607151  0.7450428   0.10117594 ...  0.20710417  0.55322104\n",
      "  -0.14061141]\n",
      " [-0.06232554  0.24142364 -0.87726227 ... -0.56340057 -0.14061141\n",
      "   0.92527462]]\n",
      "[ 1.80e-01 -4.65e-01  7.76e-02 -3.30e-02 -1.32e-01 -1.60e-01 -1.75e-01 ... ]\n",
      "[-4.65e-01  1.21e+00 -2.76e-01  2.51e-02  2.78e-01  4.06e-01  3.45e-01 ... ]\n",
      "[ 7.76e-02 -2.76e-01  8.34e-01  6.25e-01  6.07e-01  2.55e-02  1.08e+00 ... ]\n",
      "[-3.30e-02  2.51e-02  6.25e-01  5.17e-01  5.54e-01  1.05e-01  9.54e-01 ... ]\n",
      "[-1.32e-01  2.78e-01  6.07e-01  5.54e-01  6.46e-01  1.96e-01  1.08e+00 ... ]\n",
      "[-1.60e-01  4.06e-01  2.55e-02  1.05e-01  1.96e-01  1.54e-01  2.92e-01 ... ]\n",
      "[-1.75e-01  3.45e-01  1.08e+00  9.54e-01  1.08e+00  2.92e-01  1.83e+00 ... ]\n",
      "[-2.02e-01  4.83e-01  3.36e-01  3.75e-01  4.99e-01  2.30e-01  8.06e-01 ... ]\n",
      "[-2.13e-02  7.52e-02 -2.22e-01 -1.66e-01 -1.61e-01 -6.14e-03 -2.86e-01 ... ]\n",
      "[ 3.64e-01 -9.96e-01  7.31e-01  3.92e-01  2.09e-01 -2.57e-01  4.73e-01 ... ]\n",
      "[-2.57e-01  6.04e-01  5.28e-01  5.58e-01  7.18e-01  3.04e-01  1.17e+00 ... ]\n",
      "[-1.19e-01  2.61e-01  4.52e-01  4.24e-01  5.04e-01  1.66e-01  8.41e-01 ... ]\n",
      "[-4.03e-02  7.01e-02  3.45e-01  2.97e-01  3.30e-01  7.87e-02  5.62e-01 ... ]\n",
      "[-2.05e-01  5.57e-01 -3.50e-01 -1.71e-01 -6.65e-02  1.52e-01 -1.77e-01 ... ]\n",
      "[ 2.71e-02 -1.29e-01  6.36e-01  4.94e-01  4.98e-01  4.96e-02  8.73e-01 ... ]\n",
      "[ 3.04e-01 -8.42e-01  7.04e-01  4.02e-01  2.52e-01 -2.03e-01  5.29e-01 ... ]\n",
      "[ 2.48e-01 -6.94e-01  6.72e-01  4.07e-01  2.88e-01 -1.54e-01  5.74e-01 ... ]\n",
      "[-6.87e-02  1.44e-01  3.35e-01  3.04e-01  3.52e-01  1.04e-01  5.92e-01 ... ]\n",
      "[ 8.00e-03 -6.32e-02  4.55e-01  3.59e-01  3.69e-01  4.62e-02  6.43e-01 ... ]\n",
      "[ 3.34e-01 -9.21e-01  7.48e-01  4.22e-01  2.56e-01 -2.26e-01  5.45e-01 ... ]\n",
      "[-3.87e-02  6.68e-02  3.39e-01  2.91e-01  3.23e-01  7.65e-02  5.50e-01 ... ]\n",
      "[ 2.33e-01 -6.22e-01  2.91e-01  1.10e-01 -1.29e-02 -1.86e-01  4.74e-02 ... ]\n",
      "[ 2.59e-01 -6.87e-01  2.97e-01  1.01e-01 -3.58e-02 -2.09e-01  1.51e-02 ... ]\n",
      "[ 4.02e-01 -1.05e+00  2.86e-01  1.58e-02 -2.02e-01 -3.45e-01 -2.30e-01 ... ]\n",
      "[-2.76e-01  7.19e-01 -1.66e-01  1.35e-02  1.64e-01  2.41e-01  2.02e-01 ... ]\n",
      "[-3.12e-01  7.98e-01 -4.58e-02  1.28e-01  3.02e-01  2.88e-01  4.31e-01 ... ]\n",
      "[ 1.59e-01 -4.79e-01  7.90e-01  5.48e-01  4.82e-01 -5.63e-02  8.85e-01 ... ]\n",
      "[ 3.53e-01 -9.50e-01  5.32e-01  2.39e-01  5.64e-02 -2.70e-01  2.03e-01 ... ]\n",
      "[ 1.69e-01 -4.36e-01  5.03e-02 -4.92e-02 -1.43e-01 -1.54e-01 -1.98e-01 ... ]\n",
      "[ 1.22e-01 -3.69e-01  6.19e-01  4.30e-01  3.80e-01 -4.18e-02  6.97e-01 ... ]\n",
      "[ 5.24e-01 -1.38e+00  4.70e-01  9.88e-02 -1.82e-01 -4.38e-01 -1.59e-01 ... ]\n",
      "[-1.68e-01  3.79e-01  5.18e-01  5.03e-01  6.13e-01  2.19e-01  1.01e+00 ... ]\n",
      "[ 2.14e-02 -1.04e-01  5.26e-01  4.09e-01  4.13e-01  4.20e-02  7.24e-01 ... ]\n",
      "[ 3.86e-03 -5.31e-02  4.60e-01  3.66e-01  3.77e-01  5.08e-02  6.57e-01 ... ]\n",
      "[ 2.88e-02 -1.35e-01  6.60e-01  5.12e-01  5.16e-01  5.09e-02  9.05e-01 ... ]\n",
      "[ 7.07e-02 -2.57e-01  8.21e-01  6.19e-01  6.03e-01  3.04e-02  1.07e+00 ... ]\n",
      "[-5.42e-01  1.43e+00 -5.56e-01 -1.58e-01  1.30e-01  4.45e-01  6.44e-02 ... ]\n",
      "[-3.49e-01  8.59e-01  3.24e-01  4.43e-01  6.49e-01  3.67e-01  1.02e+00 ... ]\n",
      "[ 4.39e-02 -1.61e-01  5.17e-01  3.90e-01  3.81e-01  1.97e-02  6.75e-01 ... ]\n",
      "[ 1.09e-01 -3.24e-01  4.92e-01  3.36e-01  2.89e-01 -4.44e-02  5.35e-01 ... ]\n",
      "[ 1.76e-01 -4.91e-01  4.50e-01  2.67e-01  1.81e-01 -1.13e-01  3.68e-01 ... ]\n",
      "[-4.60e-01  1.24e+00 -6.91e-01 -3.10e-01 -7.20e-02  3.51e-01 -2.62e-01 ... ]\n",
      "[-7.22e-02  2.14e-01 -3.16e-01 -2.15e-01 -1.84e-01  3.06e-02 -3.41e-01 ... ]\n",
      "[-2.82e-01  7.55e-01 -3.71e-01 -1.48e-01 -1.36e-04  2.22e-01 -8.46e-02 ... ]\n",
      "[-3.29e-01  8.32e-01  8.21e-02  2.40e-01  4.27e-01  3.20e-01  6.44e-01 ... ]\n",
      "[-5.58e-01  1.48e+00 -6.42e-01 -2.19e-01  7.56e-02  4.50e-01 -3.54e-02 ... ]\n",
      "[-7.55e-02  1.29e-01  6.75e-01  5.80e-01  6.42e-01  1.51e-01  1.09e+00 ... ]\n",
      "[-2.54e-01  5.94e-01  5.70e-01  5.90e-01  7.49e-01  3.07e-01  1.23e+00 ... ]\n",
      "[-6.68e-02  1.00e-01  7.44e-01  6.30e-01  6.89e-01  1.51e-01  1.18e+00 ... ]\n",
      "[ 1.45e-01 -4.28e-01  6.26e-01  4.24e-01  3.61e-01 -6.25e-02  6.70e-01 ... ]\n",
      "[ 5.21e-01 -1.38e+00  5.68e-01  1.79e-01 -9.66e-02 -4.24e-01 -1.23e-02 ... ]\n",
      "[-3.30e-01  8.25e-01  1.65e-01  3.06e-01  4.97e-01  3.30e-01  7.65e-01 ... ]\n",
      "[ 6.00e-02 -1.93e-01  4.23e-01  3.06e-01  2.85e-01 -6.59e-03  5.13e-01 ... ]\n",
      "[-1.29e-01  2.52e-01  8.03e-01  7.10e-01  8.06e-01  2.16e-01  1.36e+00 ... ]\n",
      "[ 3.87e-02 -1.15e-01  1.70e-01  1.16e-01  9.90e-02 -1.63e-02  1.84e-01 ... ]\n",
      "[ 3.50e-01 -9.47e-01  5.94e-01  2.90e-01  1.12e-01 -2.59e-01  2.98e-01 ... ]\n",
      "[-4.26e-02  4.12e-02  7.15e-01  5.94e-01  6.39e-01  1.25e-01  1.10e+00 ... ]\n",
      "[ 4.62e-02 -1.20e-01  2.16e-02 -7.12e-03 -3.25e-02 -4.10e-02 -4.26e-02 ... ]\n",
      "[ 2.07e-02 -3.06e-02 -2.35e-01 -1.99e-01 -2.17e-01 -4.72e-02 -3.71e-01 ... ]\n",
      "[ 8.35e-02 -2.83e-01  7.46e-01  5.52e-01  5.27e-01  9.43e-03  9.41e-01 ... ]\n",
      "[ 2.57e-01 -7.01e-01  4.97e-01  2.61e-01  1.32e-01 -1.83e-01  3.06e-01 ... ]\n",
      "[-2.82e-01  7.71e-01 -5.53e-01 -2.93e-01 -1.50e-01  2.01e-01 -3.46e-01 ... ]\n",
      "[-1.19e-01  2.74e-01  3.20e-01  3.18e-01  3.95e-01  1.50e-01  6.51e-01 ... ]\n",
      "[ 1.87e-01 -5.56e-01  8.43e-01  5.75e-01  4.95e-01 -7.67e-02  9.15e-01 ... ]\n",
      "[ 2.77e-02 -5.67e-02 -1.46e-01 -1.31e-01 -1.51e-01 -4.33e-02 -2.54e-01 ... ]\n",
      "[ 9.15e-02 -2.14e-01 -1.98e-01 -2.07e-01 -2.64e-01 -1.10e-01 -4.32e-01 ... ]\n",
      "[ 2.09e-01 -5.28e-01 -6.25e-02 -1.61e-01 -2.80e-01 -2.05e-01 -4.24e-01 ... ]\n",
      "[-4.35e-01  1.12e+00 -1.12e-01  1.40e-01  3.82e-01  3.97e-01  5.33e-01 ... ]\n",
      "[ 3.37e-01 -9.24e-01  6.76e-01  3.62e-01  1.93e-01 -2.38e-01  4.36e-01 ... ]\n",
      "[ 4.76e-01 -1.28e+00  6.92e-01  3.01e-01  5.43e-02 -3.67e-01  2.37e-01 ... ]\n",
      "[-4.23e-01  1.09e+00 -1.55e-01  9.97e-02  3.33e-01  3.81e-01  4.52e-01 ... ]\n",
      "[-2.98e-01  7.55e-01  4.31e-02  1.92e-01  3.60e-01  2.86e-01  5.37e-01 ... ]\n",
      "[ 1.43e-01 -4.10e-01  4.78e-01  3.06e-01  2.40e-01 -7.83e-02  4.60e-01 ... ]\n",
      "[-2.14e-01  4.81e-01  6.94e-01  6.68e-01  8.09e-01  2.84e-01  1.34e+00 ... ]\n",
      "[-1.16e-01  2.75e-01  2.32e-01  2.47e-01  3.19e-01  1.37e-01  5.20e-01 ... ]\n",
      "[-1.79e-01  4.68e-01 -1.37e-01 -1.53e-02  8.09e-02  1.52e-01  8.72e-02 ... ]\n",
      "[ 1.17e-01 -3.21e-01  2.51e-01  1.39e-01  8.08e-02 -8.02e-02  1.75e-01 ... ]\n",
      "[ 3.01e-01 -7.80e-01  1.33e-01 -5.30e-02 -2.18e-01 -2.68e-01 -2.89e-01 ... ]\n",
      "[ 1.11e-01 -2.82e-01 -1.00e-02 -6.67e-02 -1.29e-01 -1.06e-01 -1.92e-01 ... ]\n",
      "[-1.29e-01  3.41e-01 -1.24e-01 -3.07e-02  3.82e-02  1.07e-01  2.77e-02 ... ]\n",
      "[ 1.31e-01 -3.51e-01  1.88e-01  8.09e-02  1.30e-02 -1.01e-01  6.16e-02 ... ]\n",
      "[-8.49e-03 -1.11e-02  3.47e-01  2.82e-01  2.97e-01  4.91e-02  5.14e-01 ... ]\n",
      "[-2.81e-01  7.08e-01  8.98e-02  2.20e-01  3.81e-01  2.75e-01  5.78e-01 ... ]\n",
      "[-1.99e-01  4.80e-01  2.81e-01  3.29e-01  4.49e-01  2.20e-01  7.21e-01 ... ]\n",
      "[ 4.09e-01 -1.06e+00  2.34e-01 -2.89e-02 -2.52e-01 -3.57e-01 -3.15e-01 ... ]\n",
      "[ 1.35e-01 -4.10e-01  7.03e-01  4.90e-01  4.36e-01 -4.41e-02  7.97e-01 ... ]\n",
      "[-1.22e-01  2.89e-01  2.40e-01  2.57e-01  3.33e-01  1.44e-01  5.41e-01 ... ]\n",
      "[ 1.83e-01 -4.79e-01  1.31e-01  7.86e-03 -9.12e-02 -1.57e-01 -1.04e-01 ... ]\n",
      "[-4.56e-01  1.21e+00 -5.47e-01 -1.96e-01  4.38e-02  3.65e-01 -6.01e-02 ... ]\n",
      "[-7.37e-02  2.08e-01 -2.18e-01 -1.35e-01 -1.00e-01  4.37e-02 -1.96e-01 ... ]\n",
      "[-1.93e-01  4.38e-01  5.67e-01  5.55e-01  6.81e-01  2.49e-01  1.13e+00 ... ]\n",
      "[ 6.36e-02 -2.04e-01  4.50e-01  3.26e-01  3.03e-01 -6.79e-03  5.46e-01 ... ]\n",
      "[-1.96e-01  4.98e-01  2.93e-02  1.27e-01  2.38e-01  1.88e-01  3.55e-01 ... ]\n",
      "[ 1.24e-01 -3.54e-01  3.92e-01  2.48e-01  1.90e-01 -7.07e-02  3.67e-01 ... ]\n",
      "[ 1.50e-01 -4.39e-01  6.11e-01  4.10e-01  3.44e-01 -6.88e-02  6.42e-01 ... ]\n",
      "[-1.27e-01  2.65e-01  6.32e-01  5.72e-01  6.62e-01  1.94e-01  1.11e+00 ... ]\n",
      "[-3.32e-01  8.78e-01 -3.22e-01 -8.15e-02  9.57e-02  2.75e-01  6.70e-02 ... ]\n",
      "[-3.18e-02  3.16e-02  5.27e-01  4.38e-01  4.72e-01  9.23e-02  8.10e-01 ... ]\n",
      "[-2.96e-01  7.45e-01  1.01e-01  2.37e-01  4.07e-01  2.91e-01  6.18e-01 ... ]\n",
      "[ 6.23e-02 -2.41e-01  8.77e-01  6.68e-01  6.59e-01  4.50e-02  1.16e+00 ... ]\n",
      "\n",
      "SV number:  6\n"
     ]
    },
    {
     "data": {
      "image/png": "[encoded data removed]",
      "text/plain": [
       "<Figure size 640x480 with 1 Axes>"
      ]
     },
     "metadata": {},
     "output_type": "display_data"
    }
   ],
   "source": [
    "clf = SVM(Kernel.linear(), 100)\n",
    "test_linear_SVM(clf, 100)"
   ]
  },
  {
   "cell_type": "code",
   "execution_count": 156,
   "metadata": {
    "collapsed": false
   },
   "outputs": [
    {
     "name": "stdout",
     "output_type": "stream",
     "text": [
      "SV number:  12\n"
     ]
    },
    {
     "data": {
      "image/png": "[encoded data removed]",
      "text/plain": [
       "<Figure size 640x480 with 1 Axes>"
      ]
     },
     "metadata": {},
     "output_type": "display_data"
    }
   ],
   "source": [
    "clf = SVM(Kernel.gaussian(1), 100)\n",
    "test_rbf_SVM(clf, 100)"
   ]
  },
  {
   "cell_type": "markdown",
   "metadata": {},
   "source": [
    "If you think your code is correct, then we can move to the real problem. Below are some code examples; you will need to fill in some details, and extend these to any experiments you want to run."
   ]
  },
  {
   "cell_type": "code",
   "execution_count": null,
   "metadata": {
    "collapsed": false
   },
   "outputs": [],
   "source": [
    "opt_C = None\n",
    "opt_acc = float('inf')\n",
    "\n",
    "for C in [0.5, 1, 5, 10]:\n",
    "   clf = SVM(Kernel.linear(), C)\n",
    "   clf.fit(X['train'], y['train'].astype('double'))\n",
    "   print(\"C = \", C)\n",
    "   y_hat = clf.predict(X['train'])\n",
    "   print(\"Acc on train: \", np.mean(y_hat == y['train']))\n",
    "   y_hat = clf.predict(X['val'])\n",
    "   print(\"Acc on val: \", np.mean(y_hat == y['val']))\n",
    "   \n",
    "   val_acc = np.mean(y_hat == y['val'])\n",
    "   if val_acc < opt_acc:\n",
    "      opt_acc = val_acc\n",
    "      opt_C = C"
   ]
  },
  {
   "cell_type": "markdown",
   "metadata": {},
   "source": [
    "Choose the best C, and predict the label for test data."
   ]
  },
  {
   "cell_type": "code",
   "execution_count": null,
   "metadata": {
    "collapsed": true
   },
   "outputs": [],
   "source": [
    "C = opt_C\n",
    "clf = SVM(Kernel.linear(), C)\n",
    "clf.fit(X['train'], y['train'].astype('double'))\n",
    "y_hat = clf.predict(X['test'])\n",
    "save_submission('sub_linear.csv', y_hat)"
   ]
  },
  {
   "cell_type": "markdown",
   "metadata": {},
   "source": [
    "RBF (Gaussian) kernel SVM"
   ]
  },
  {
   "cell_type": "code",
   "execution_count": null,
   "metadata": {
    "collapsed": false
   },
   "outputs": [],
   "source": [
    "for C in [RANGE OF C VALUES]:\n",
    "    for gamma in [RANGE OF GAMMA VALUES]:\n",
    "        clf = SVM(Kernel.gaussian(gamma), C)\n",
    "        clf.fit(X['train'], y['train'].astype('double'))\n",
    "        print(\"C = \", C)\n",
    "        print(\"gamma = \", gamma)\n",
    "        y_hat = clf.predict(X['train'])\n",
    "        print(\"Acc on train: \", np.mean(y_hat == y['train']))\n",
    "        y_hat = clf.predict(X['val'])\n",
    "        print(\"Acc on val: \", np.mean(y_hat == y['val']))\n",
    "        "
   ]
  },
  {
   "cell_type": "code",
   "execution_count": null,
   "metadata": {
    "collapsed": true
   },
   "outputs": [],
   "source": [
    "clf = SVM(Kernel.gaussian(BEST GAMMA), BEST C)\n",
    "clf.fit(X['train'], y['train'].astype('double'))y_hat = clf.predict(X['test'])\n",
    "save_submission('sub_rbf.csv', y_hat)"
   ]
  }
 ],
 "metadata": {
  "kernelspec": {
   "display_name": "venv",
   "language": "python",
   "name": "python3"
  },
  "language_info": {
   "codemirror_mode": {
    "name": "ipython",
    "version": 3
   },
   "file_extension": ".py",
   "mimetype": "text/x-python",
   "name": "python",
   "nbconvert_exporter": "python",
   "pygments_lexer": "ipython3",
   "version": "3.8.12"
  }
 },
 "nbformat": 4,
 "nbformat_minor": 0
}
