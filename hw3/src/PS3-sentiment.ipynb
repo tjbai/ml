{
 "cells": [
  {
   "cell_type": "code",
   "execution_count": 1,
   "metadata": {
    "collapsed": false
   },
   "outputs": [],
   "source": [
    "from __future__ import absolute_import\n",
    "from __future__ import division\n",
    "from __future__ import print_function\n",
    "\n",
    "from utils import *\n",
    "\n",
    "import numpy as np\n",
    "import cvxopt\n",
    "from cvxopt import matrix\n",
    "\n",
    "cvxopt.solvers.options['show_progress'] = False\n",
    "\n",
    "%matplotlib inline"
   ]
  },
  {
   "cell_type": "code",
   "execution_count": 2,
   "metadata": {
    "collapsed": false
   },
   "outputs": [
    {
     "name": "stdout",
     "output_type": "stream",
     "text": [
      "Feature size:  1464\n"
     ]
    }
   ],
   "source": [
    "\"\"\"\n",
    "Get the preprocessed data:\n",
    "X and y are dicts, has keys train, val and test. keys gives you what word (or pair of words) each dimension corresponds to.\n",
    "\n",
    "You can also get bigram features if you call preprocess(bigram = True)`\n",
    "Another optional argument mincount specifies the frequency cutoff for inclusion of a word/bigram in the\n",
    "dictionary.\n",
    "\n",
    "\"\"\"\n",
    "\n",
    "X, y, keys = preprocess()"
   ]
  },
  {
   "cell_type": "code",
   "execution_count": 81,
   "metadata": {
    "collapsed": true
   },
   "outputs": [],
   "source": [
    "class Kernel(object):\n",
    "    \"\"\"\n",
    "    A class containing all kinds of kernels.\n",
    "    Note: the kernel should work for both input (Matrix, vector) and (vector, vector)\n",
    "    \"\"\"\n",
    "    @staticmethod\n",
    "    def linear():\n",
    "        def f(x, y):\n",
    "            return np.dot(x, y)\n",
    "        return f\n",
    "\n",
    "    @staticmethod\n",
    "    def gaussian(gamma):  # we use the commonly used name, although it's not really a Gaussian\n",
    "        def f(x, y):\n",
    "            exponent = - gamma * np.linalg.norm((x-y).transpose(), 2, 0) ** 2\n",
    "            return np.exp(exponent)\n",
    "        return f\n",
    "\n",
    "    @staticmethod\n",
    "    def _poly(dimension, offset):\n",
    "        def f(x, y):\n",
    "            return (offset + np.dot(x, y)) ** dimension\n",
    "        return f\n",
    "\n",
    "    @staticmethod\n",
    "    def inhomogenous_polynomial(dimension):\n",
    "        return Kernel._poly(dimension=dimension, offset=1.0)\n",
    "\n",
    "    @staticmethod\n",
    "    def homogenous_polynomial(dimension):\n",
    "        return Kernel._poly(dimension=dimension, offset=0.0)\n",
    "\n",
    "    @staticmethod\n",
    "    def hyperbolic_tangent(kappa, c):\n",
    "        def f(x, y):\n",
    "            return np.tanh(kappa * np.dot(x, y) + c)\n",
    "        return f"
   ]
  },
  {
   "cell_type": "code",
   "execution_count": 82,
   "metadata": {
    "collapsed": false
   },
   "outputs": [],
   "source": [
    "class SVM(object):\n",
    "    def __init__(self, kernel, c):\n",
    "        \"\"\"\n",
    "        Build a SVM given kernel function and C\n",
    "\n",
    "        Parameters\n",
    "        ----------\n",
    "        kernel : function\n",
    "            a function takes input (Matrix, vector) or (vector, vector)\n",
    "        c : a scalar\n",
    "            balance term\n",
    "\n",
    "        Returns\n",
    "        -------\n",
    "        \"\"\"\n",
    "        self._kernel = kernel\n",
    "        self._c = c\n",
    "\n",
    "    def fit(self, X, y):\n",
    "        \"\"\"\n",
    "        Fit the model given data X and ground truth label y\n",
    "\n",
    "        Parameters\n",
    "        ----------\n",
    "        X : 2D array\n",
    "            N x d data matrix (row per example)\n",
    "        y : 1D array\n",
    "            class label\n",
    "\n",
    "        Returns\n",
    "        -------\n",
    "        \"\"\"\n",
    "        lagrange_multipliers = self._compute_multipliers(X, y)\n",
    "        self._construct_predictor(X, y, lagrange_multipliers)\n",
    "    \n",
    "    def predict(self, X):\n",
    "        \"\"\"\n",
    "        Predict the label given data X\n",
    "\n",
    "        Parameters\n",
    "        ----------\n",
    "        X : 2D array\n",
    "            N x d data matrix (row per example)\n",
    "\n",
    "        Returns\n",
    "        -------\n",
    "        y : 1D array\n",
    "            predicted label\n",
    "        \"\"\"\n",
    "        result = np.full(X.shape[0], self._bias)\n",
    "        \n",
    "        for i, sample in enumerate(X):\n",
    "            result[i] += self._kernel(self._weight_vector, sample)\n",
    "        \n",
    "        return np.sign(result)\n",
    "\n",
    "    def _kernel_matrix(self, X):\n",
    "        \"\"\"\n",
    "        Get the kernel matrix.\n",
    "\n",
    "        Parameters\n",
    "        ----------\n",
    "        X : 2D array\n",
    "            N x d data matrix (row per example)\n",
    "\n",
    "        Returns\n",
    "        -------\n",
    "        K : 2D array\n",
    "            N x N kernel matrix\n",
    "        \"\"\"\n",
    "        N, _ = X.shape\n",
    "        K = np.zeros((N, N))\n",
    "        for i, x_i in enumerate(X):\n",
    "            for j, x_j in enumerate(X):\n",
    "                K[i, j] = self._kernel(x_i, x_j)\n",
    "        return K\n",
    "\n",
    "    def _construct_predictor(self, X, y, lagrange_multipliers):\n",
    "        \"\"\"\n",
    "        Given the data, label and the multipliers, extract the support vectors and calculate the bias\n",
    "\n",
    "        Parameters\n",
    "        ----------\n",
    "        X : 2D array\n",
    "            N x d data matrix (row per example)\n",
    "        y : 1D array\n",
    "            class label\n",
    "        lagrange_multipliers: 1D array\n",
    "            the solution of lagrange_multiplier\n",
    "\n",
    "        Fills in relevant variables: model bias and weights (alphas), and details of support vectors\n",
    "        \n",
    "        -------\n",
    "        \"\"\"\n",
    "        support_vector_indices = lagrange_multipliers > 1e-5\n",
    "            \n",
    "        print(\"SV number: \", np.sum(support_vector_indices))\n",
    "\n",
    "        self._lagrange_multipliers = lagrange_multipliers[support_vector_indices]\n",
    "        self._support_vectors = X[support_vector_indices]\n",
    "        self._support_vector_labels = y[support_vector_indices]\n",
    "    \n",
    "        self._weight_vector = np.sum(\n",
    "            self._lagrange_multipliers * self._support_vector_labels * self._support_vectors.T,\n",
    "            axis=1\n",
    "        )\n",
    "        \n",
    "        self._bias = np.mean(self._support_vector_labels - self._support_vectors @ self._weight_vector)\n",
    "         \n",
    "\n",
    "    def _compute_multipliers(self, X, y):\n",
    "        \"\"\"\n",
    "        Given the data, label, solve the QP program to get lagrange multiplier.\n",
    "\n",
    "        Parameters\n",
    "        ----------\n",
    "        X : 2D array\n",
    "            N x d data matrix (row per example)\n",
    "        y : 1D array\n",
    "            class label\n",
    "\n",
    "        Returns\n",
    "        lagrange_multipliers: 1D array\n",
    "        -------\n",
    "        \"\"\"\n",
    "        N, _ = X.shape\n",
    "        K = self._kernel_matrix(X)\n",
    "        \n",
    "        H = matrix(K * np.outer(y, y)) # H[i, j] ] = K[i, j] * y[i] * y[j]\n",
    "        f = matrix(-1.0, (N, 1)) # (-1,...,-1)^T\n",
    "\n",
    "        A = matrix(np.vstack((np.eye(N), -np.eye(N)))) # (I | -I)^T\n",
    "        a = matrix(np.hstack((np.full(N, self._c), np.zeros(N)))) # (c,...,c,0,...,0)^T\n",
    "\n",
    "        B = matrix(y, (1, N))\n",
    "        b = matrix(0.0)\n",
    "        \n",
    "        solution = cvxopt.solvers.qp(H, f, A, a, B, b)\n",
    "        \n",
    "        # return the lagrange multipliers\n",
    "        return np.ravel(solution['x'])"
   ]
  },
  {
   "cell_type": "markdown",
   "metadata": {},
   "source": [
    "Test the trainer.\n",
    "The following code would generate data which the grounth truth split is x+y = 0.5."
   ]
  },
  {
   "cell_type": "code",
   "execution_count": 83,
   "metadata": {
    "collapsed": false
   },
   "outputs": [
    {
     "name": "stdout",
     "output_type": "stream",
     "text": [
      "SV number:  6\n"
     ]
    },
    {
     "data": {
      "image/png": "[encoded data removed]",
      "text/plain": [
       "<Figure size 640x480 with 1 Axes>"
      ]
     },
     "metadata": {},
     "output_type": "display_data"
    }
   ],
   "source": [
    "clf = SVM(Kernel.linear(), 100)\n",
    "test_linear_SVM(clf, 100)"
   ]
  },
  {
   "cell_type": "code",
   "execution_count": 80,
   "metadata": {
    "collapsed": false
   },
   "outputs": [
    {
     "name": "stdout",
     "output_type": "stream",
     "text": [
      "me me me\n",
      "SV number:  14\n"
     ]
    },
    {
     "data": {
      "image/png": "[encoded data removed]",
      "text/plain": [
       "<Figure size 640x480 with 1 Axes>"
      ]
     },
     "metadata": {},
     "output_type": "display_data"
    }
   ],
   "source": [
    "clf = SVM(Kernel.gaussian(1), 100)\n",
    "test_rbf_SVM(clf, 100)"
   ]
  },
  {
   "cell_type": "markdown",
   "metadata": {},
   "source": [
    "If you think your code is correct, then we can move to the real problem. Below are some code examples; you will need to fill in some details, and extend these to any experiments you want to run."
   ]
  },
  {
   "cell_type": "code",
   "execution_count": 85,
   "metadata": {
    "collapsed": false
   },
   "outputs": [
    {
     "name": "stdout",
     "output_type": "stream",
     "text": [
      "SV number:  1365\n",
      "C =  0.5\n",
      "Acc on train:  0.9426820475847152\n",
      "Acc on val:  0.72\n",
      "SV number:  1268\n",
      "C =  1\n",
      "Acc on train:  0.9560201874549387\n",
      "Acc on val:  0.724\n",
      "SV number:  1099\n",
      "C =  5\n",
      "Acc on train:  0.9873828406633021\n",
      "Acc on val:  0.722\n",
      "SV number:  1040\n",
      "C =  10\n",
      "Acc on train:  0.9953136265320837\n",
      "Acc on val:  0.71\n"
     ]
    }
   ],
   "source": [
    "opt_C = None\n",
    "opt_acc = float('inf')\n",
    "\n",
    "for C in [0.5, 1, 5, 10]:\n",
    "   clf = SVM(Kernel.linear(), C)\n",
    "   clf.fit(X['train'], y['train'].astype('double'))\n",
    "   print(\"C = \", C)\n",
    "   y_hat = clf.predict(X['train'])\n",
    "   print(\"Acc on train: \", np.mean(y_hat == y['train']))\n",
    "   y_hat = clf.predict(X['val'])\n",
    "   print(\"Acc on val: \", np.mean(y_hat == y['val']))\n",
    "   \n",
    "   val_acc = np.mean(y_hat == y['val'])\n",
    "   if val_acc < opt_acc:\n",
    "      opt_acc = val_acc\n",
    "      opt_C = C"
   ]
  },
  {
   "cell_type": "markdown",
   "metadata": {},
   "source": [
    "Choose the best C, and predict the label for test data."
   ]
  },
  {
   "cell_type": "code",
   "execution_count": 86,
   "metadata": {
    "collapsed": true
   },
   "outputs": [
    {
     "name": "stdout",
     "output_type": "stream",
     "text": [
      "SV number:  1040\n"
     ]
    }
   ],
   "source": [
    "C = opt_C\n",
    "clf = SVM(Kernel.linear(), C)\n",
    "clf.fit(X['train'], y['train'].astype('double'))\n",
    "y_hat = clf.predict(X['test'])\n",
    "save_submission('sub_linear.csv', y_hat)"
   ]
  },
  {
   "cell_type": "markdown",
   "metadata": {},
   "source": [
    "RBF (Gaussian) kernel SVM"
   ]
  },
  {
   "cell_type": "code",
   "execution_count": 87,
   "metadata": {
    "collapsed": false
   },
   "outputs": [
    {
     "name": "stdout",
     "output_type": "stream",
     "text": [
      "SV number:  2112\n",
      "C =  0.5\n",
      "gamma =  0.01\n",
      "Acc on train:  0.6366258111031002\n",
      "Acc on val:  0.67\n",
      "SV number:  2762\n",
      "C =  0.5\n",
      "gamma =  0.5\n",
      "Acc on train:  0.36337418889689976\n",
      "Acc on val:  0.33\n",
      "SV number:  2774\n",
      "C =  0.5\n",
      "gamma =  1\n",
      "Acc on train:  0.6366258111031002\n",
      "Acc on val:  0.67\n",
      "SV number:  2024\n",
      "C =  1\n",
      "gamma =  0.01\n",
      "Acc on train:  0.6366258111031002\n",
      "Acc on val:  0.67\n",
      "SV number:  2755\n",
      "C =  1\n",
      "gamma =  0.5\n",
      "Acc on train:  0.36337418889689976\n",
      "Acc on val:  0.33\n",
      "SV number:  2774\n",
      "C =  1\n",
      "gamma =  1\n",
      "Acc on train:  0.6366258111031002\n",
      "Acc on val:  0.67\n",
      "SV number:  1794\n",
      "C =  5\n",
      "gamma =  0.01\n",
      "Acc on train:  0.36337418889689976\n",
      "Acc on val:  0.33\n",
      "SV number:  2762\n",
      "C =  5\n",
      "gamma =  0.5\n",
      "Acc on train:  0.36337418889689976\n",
      "Acc on val:  0.33\n"
     ]
    },
    {
     "ename": "KeyboardInterrupt",
     "evalue": "",
     "output_type": "error",
     "traceback": [
      "\u001b[0;31m---------------------------------------------------------------------------\u001b[0m",
      "\u001b[0;31mKeyboardInterrupt\u001b[0m                         Traceback (most recent call last)",
      "\u001b[1;32m/Users/bai/Desktop/ml/hw3/src/PS3-sentiment.ipynb Cell 13\u001b[0m line \u001b[0;36m4\n\u001b[1;32m      <a href='vscode-notebook-cell:/Users/bai/Desktop/ml/hw3/src/PS3-sentiment.ipynb#X15sZmlsZQ%3D%3D?line=1'>2</a>\u001b[0m \u001b[39mfor\u001b[39;00m gamma \u001b[39min\u001b[39;00m [\u001b[39m0.01\u001b[39m, \u001b[39m0.5\u001b[39m, \u001b[39m1\u001b[39m]:\n\u001b[1;32m      <a href='vscode-notebook-cell:/Users/bai/Desktop/ml/hw3/src/PS3-sentiment.ipynb#X15sZmlsZQ%3D%3D?line=2'>3</a>\u001b[0m     clf \u001b[39m=\u001b[39m SVM(Kernel\u001b[39m.\u001b[39mgaussian(gamma), C)\n\u001b[0;32m----> <a href='vscode-notebook-cell:/Users/bai/Desktop/ml/hw3/src/PS3-sentiment.ipynb#X15sZmlsZQ%3D%3D?line=3'>4</a>\u001b[0m     clf\u001b[39m.\u001b[39;49mfit(X[\u001b[39m'\u001b[39;49m\u001b[39mtrain\u001b[39;49m\u001b[39m'\u001b[39;49m], y[\u001b[39m'\u001b[39;49m\u001b[39mtrain\u001b[39;49m\u001b[39m'\u001b[39;49m]\u001b[39m.\u001b[39;49mastype(\u001b[39m'\u001b[39;49m\u001b[39mdouble\u001b[39;49m\u001b[39m'\u001b[39;49m))\n\u001b[1;32m      <a href='vscode-notebook-cell:/Users/bai/Desktop/ml/hw3/src/PS3-sentiment.ipynb#X15sZmlsZQ%3D%3D?line=4'>5</a>\u001b[0m     \u001b[39mprint\u001b[39m(\u001b[39m\"\u001b[39m\u001b[39mC = \u001b[39m\u001b[39m\"\u001b[39m, C)\n\u001b[1;32m      <a href='vscode-notebook-cell:/Users/bai/Desktop/ml/hw3/src/PS3-sentiment.ipynb#X15sZmlsZQ%3D%3D?line=5'>6</a>\u001b[0m     \u001b[39mprint\u001b[39m(\u001b[39m\"\u001b[39m\u001b[39mgamma = \u001b[39m\u001b[39m\"\u001b[39m, gamma)\n",
      "\u001b[1;32m/Users/bai/Desktop/ml/hw3/src/PS3-sentiment.ipynb Cell 13\u001b[0m line \u001b[0;36m3\n\u001b[1;32m     <a href='vscode-notebook-cell:/Users/bai/Desktop/ml/hw3/src/PS3-sentiment.ipynb#X15sZmlsZQ%3D%3D?line=18'>19</a>\u001b[0m \u001b[39mdef\u001b[39;00m \u001b[39mfit\u001b[39m(\u001b[39mself\u001b[39m, X, y):\n\u001b[1;32m     <a href='vscode-notebook-cell:/Users/bai/Desktop/ml/hw3/src/PS3-sentiment.ipynb#X15sZmlsZQ%3D%3D?line=19'>20</a>\u001b[0m \u001b[39m    \u001b[39m\u001b[39m\"\"\"\u001b[39;00m\n\u001b[1;32m     <a href='vscode-notebook-cell:/Users/bai/Desktop/ml/hw3/src/PS3-sentiment.ipynb#X15sZmlsZQ%3D%3D?line=20'>21</a>\u001b[0m \u001b[39m    Fit the model given data X and ground truth label y\u001b[39;00m\n\u001b[1;32m     <a href='vscode-notebook-cell:/Users/bai/Desktop/ml/hw3/src/PS3-sentiment.ipynb#X15sZmlsZQ%3D%3D?line=21'>22</a>\u001b[0m \n\u001b[0;32m   (...)\u001b[0m\n\u001b[1;32m     <a href='vscode-notebook-cell:/Users/bai/Desktop/ml/hw3/src/PS3-sentiment.ipynb#X15sZmlsZQ%3D%3D?line=30'>31</a>\u001b[0m \u001b[39m    -------\u001b[39;00m\n\u001b[1;32m     <a href='vscode-notebook-cell:/Users/bai/Desktop/ml/hw3/src/PS3-sentiment.ipynb#X15sZmlsZQ%3D%3D?line=31'>32</a>\u001b[0m \u001b[39m    \"\"\"\u001b[39;00m\n\u001b[0;32m---> <a href='vscode-notebook-cell:/Users/bai/Desktop/ml/hw3/src/PS3-sentiment.ipynb#X15sZmlsZQ%3D%3D?line=32'>33</a>\u001b[0m     lagrange_multipliers \u001b[39m=\u001b[39m \u001b[39mself\u001b[39;49m\u001b[39m.\u001b[39;49m_compute_multipliers(X, y)\n\u001b[1;32m     <a href='vscode-notebook-cell:/Users/bai/Desktop/ml/hw3/src/PS3-sentiment.ipynb#X15sZmlsZQ%3D%3D?line=33'>34</a>\u001b[0m     \u001b[39mself\u001b[39m\u001b[39m.\u001b[39m_construct_predictor(X, y, lagrange_multipliers)\n",
      "\u001b[1;32m/Users/bai/Desktop/ml/hw3/src/PS3-sentiment.ipynb Cell 13\u001b[0m line \u001b[0;36m1\n\u001b[1;32m    <a href='vscode-notebook-cell:/Users/bai/Desktop/ml/hw3/src/PS3-sentiment.ipynb#X15sZmlsZQ%3D%3D?line=111'>112</a>\u001b[0m \u001b[39m\u001b[39m\u001b[39m\"\"\"\u001b[39;00m\n\u001b[1;32m    <a href='vscode-notebook-cell:/Users/bai/Desktop/ml/hw3/src/PS3-sentiment.ipynb#X15sZmlsZQ%3D%3D?line=112'>113</a>\u001b[0m \u001b[39mGiven the data, label, solve the QP program to get lagrange multiplier.\u001b[39;00m\n\u001b[1;32m    <a href='vscode-notebook-cell:/Users/bai/Desktop/ml/hw3/src/PS3-sentiment.ipynb#X15sZmlsZQ%3D%3D?line=113'>114</a>\u001b[0m \n\u001b[0;32m   (...)\u001b[0m\n\u001b[1;32m    <a href='vscode-notebook-cell:/Users/bai/Desktop/ml/hw3/src/PS3-sentiment.ipynb#X15sZmlsZQ%3D%3D?line=123'>124</a>\u001b[0m \u001b[39m-------\u001b[39;00m\n\u001b[1;32m    <a href='vscode-notebook-cell:/Users/bai/Desktop/ml/hw3/src/PS3-sentiment.ipynb#X15sZmlsZQ%3D%3D?line=124'>125</a>\u001b[0m \u001b[39m\"\"\"\u001b[39;00m\n\u001b[1;32m    <a href='vscode-notebook-cell:/Users/bai/Desktop/ml/hw3/src/PS3-sentiment.ipynb#X15sZmlsZQ%3D%3D?line=125'>126</a>\u001b[0m N, _ \u001b[39m=\u001b[39m X\u001b[39m.\u001b[39mshape\n\u001b[0;32m--> <a href='vscode-notebook-cell:/Users/bai/Desktop/ml/hw3/src/PS3-sentiment.ipynb#X15sZmlsZQ%3D%3D?line=126'>127</a>\u001b[0m K \u001b[39m=\u001b[39m \u001b[39mself\u001b[39;49m\u001b[39m.\u001b[39;49m_kernel_matrix(X)\n\u001b[1;32m    <a href='vscode-notebook-cell:/Users/bai/Desktop/ml/hw3/src/PS3-sentiment.ipynb#X15sZmlsZQ%3D%3D?line=128'>129</a>\u001b[0m H \u001b[39m=\u001b[39m matrix(K \u001b[39m*\u001b[39m np\u001b[39m.\u001b[39mouter(y, y)) \u001b[39m# H[i, j] ] = K[i, j] * y[i] * y[j]\u001b[39;00m\n\u001b[1;32m    <a href='vscode-notebook-cell:/Users/bai/Desktop/ml/hw3/src/PS3-sentiment.ipynb#X15sZmlsZQ%3D%3D?line=129'>130</a>\u001b[0m f \u001b[39m=\u001b[39m matrix(\u001b[39m-\u001b[39m\u001b[39m1.0\u001b[39m, (N, \u001b[39m1\u001b[39m)) \u001b[39m# (-1,...,-1)^T\u001b[39;00m\n",
      "\u001b[1;32m/Users/bai/Desktop/ml/hw3/src/PS3-sentiment.ipynb Cell 13\u001b[0m line \u001b[0;36m7\n\u001b[1;32m     <a href='vscode-notebook-cell:/Users/bai/Desktop/ml/hw3/src/PS3-sentiment.ipynb#X15sZmlsZQ%3D%3D?line=72'>73</a>\u001b[0m \u001b[39mfor\u001b[39;00m i, x_i \u001b[39min\u001b[39;00m \u001b[39menumerate\u001b[39m(X):\n\u001b[1;32m     <a href='vscode-notebook-cell:/Users/bai/Desktop/ml/hw3/src/PS3-sentiment.ipynb#X15sZmlsZQ%3D%3D?line=73'>74</a>\u001b[0m     \u001b[39mfor\u001b[39;00m j, x_j \u001b[39min\u001b[39;00m \u001b[39menumerate\u001b[39m(X):\n\u001b[0;32m---> <a href='vscode-notebook-cell:/Users/bai/Desktop/ml/hw3/src/PS3-sentiment.ipynb#X15sZmlsZQ%3D%3D?line=74'>75</a>\u001b[0m         K[i, j] \u001b[39m=\u001b[39m \u001b[39mself\u001b[39;49m\u001b[39m.\u001b[39;49m_kernel(x_i, x_j)\n\u001b[1;32m     <a href='vscode-notebook-cell:/Users/bai/Desktop/ml/hw3/src/PS3-sentiment.ipynb#X15sZmlsZQ%3D%3D?line=75'>76</a>\u001b[0m \u001b[39mreturn\u001b[39;00m K\n",
      "\u001b[1;32m/Users/bai/Desktop/ml/hw3/src/PS3-sentiment.ipynb Cell 13\u001b[0m line \u001b[0;36m1\n\u001b[1;32m     <a href='vscode-notebook-cell:/Users/bai/Desktop/ml/hw3/src/PS3-sentiment.ipynb#X15sZmlsZQ%3D%3D?line=13'>14</a>\u001b[0m \u001b[39mdef\u001b[39;00m \u001b[39mf\u001b[39m(x, y):\n\u001b[0;32m---> <a href='vscode-notebook-cell:/Users/bai/Desktop/ml/hw3/src/PS3-sentiment.ipynb#X15sZmlsZQ%3D%3D?line=14'>15</a>\u001b[0m     exponent \u001b[39m=\u001b[39m \u001b[39m-\u001b[39m gamma \u001b[39m*\u001b[39m np\u001b[39m.\u001b[39;49mlinalg\u001b[39m.\u001b[39;49mnorm((x\u001b[39m-\u001b[39;49my)\u001b[39m.\u001b[39;49mtranspose(), \u001b[39m2\u001b[39;49m, \u001b[39m0\u001b[39;49m) \u001b[39m*\u001b[39m\u001b[39m*\u001b[39m \u001b[39m2\u001b[39m\n\u001b[1;32m     <a href='vscode-notebook-cell:/Users/bai/Desktop/ml/hw3/src/PS3-sentiment.ipynb#X15sZmlsZQ%3D%3D?line=15'>16</a>\u001b[0m     \u001b[39mreturn\u001b[39;00m np\u001b[39m.\u001b[39mexp(exponent)\n",
      "File \u001b[0;32m<__array_function__ internals>:200\u001b[0m, in \u001b[0;36mnorm\u001b[0;34m(*args, **kwargs)\u001b[0m\n",
      "File \u001b[0;32m~/Desktop/ml/hw3/src/venv/lib/python3.8/site-packages/numpy/linalg/linalg.py:2542\u001b[0m, in \u001b[0;36mnorm\u001b[0;34m(x, ord, axis, keepdims)\u001b[0m\n\u001b[1;32m   2539\u001b[0m \u001b[39melif\u001b[39;00m \u001b[39mord\u001b[39m \u001b[39mis\u001b[39;00m \u001b[39mNone\u001b[39;00m \u001b[39mor\u001b[39;00m \u001b[39mord\u001b[39m \u001b[39m==\u001b[39m \u001b[39m2\u001b[39m:\n\u001b[1;32m   2540\u001b[0m     \u001b[39m# special case for speedup\u001b[39;00m\n\u001b[1;32m   2541\u001b[0m     s \u001b[39m=\u001b[39m (x\u001b[39m.\u001b[39mconj() \u001b[39m*\u001b[39m x)\u001b[39m.\u001b[39mreal\n\u001b[0;32m-> 2542\u001b[0m     \u001b[39mreturn\u001b[39;00m sqrt(add\u001b[39m.\u001b[39;49mreduce(s, axis\u001b[39m=\u001b[39;49maxis, keepdims\u001b[39m=\u001b[39;49mkeepdims))\n\u001b[1;32m   2543\u001b[0m \u001b[39m# None of the str-type keywords for ord ('fro', 'nuc')\u001b[39;00m\n\u001b[1;32m   2544\u001b[0m \u001b[39m# are valid for vectors\u001b[39;00m\n\u001b[1;32m   2545\u001b[0m \u001b[39melif\u001b[39;00m \u001b[39misinstance\u001b[39m(\u001b[39mord\u001b[39m, \u001b[39mstr\u001b[39m):\n",
      "\u001b[0;31mKeyboardInterrupt\u001b[0m: "
     ]
    }
   ],
   "source": [
    "opt_C, opt_gamma = None, None\n",
    "opt_acc = float('inf')\n",
    "\n",
    "for C in [0.5, 1, 5]:\n",
    "    for gamma in [0.01, 1]:\n",
    "        clf = SVM(Kernel.gaussian(gamma), C)\n",
    "        clf.fit(X['train'], y['train'].astype('double'))\n",
    "        print(\"C = \", C)\n",
    "        print(\"gamma = \", gamma)\n",
    "        y_hat = clf.predict(X['train'])\n",
    "        print(\"Acc on train: \", np.mean(y_hat == y['train']))   \n",
    "        y_hat = clf.predict(X['val'])\n",
    "        print(\"Acc on val: \", np.mean(y_hat == y['val']))\n",
    "        \n",
    "        val_acc = np.mean(y_hat == y['val'])\n",
    "        if val_acc < opt_acc:\n",
    "            opt_acc = val_acc\n",
    "            opt_C = C\n",
    "            opt_gamma = gamma"
   ]
  },
  {
   "cell_type": "code",
   "execution_count": null,
   "metadata": {
    "collapsed": true
   },
   "outputs": [],
   "source": [
    "clf = SVM(Kernel.gaussian(opt_gamma), opt_C)\n",
    "clf.fit(X['train'], y['train'].astype('double'))\n",
    "y_hat = clf.predict(X['test'])\n",
    "save_submission('sub_rbf.csv', y_hat)"
   ]
  }
 ],
 "metadata": {
  "kernelspec": {
   "display_name": "venv",
   "language": "python",
   "name": "python3"
  },
  "language_info": {
   "codemirror_mode": {
    "name": "ipython",
    "version": 3
   },
   "file_extension": ".py",
   "mimetype": "text/x-python",
   "name": "python",
   "nbconvert_exporter": "python",
   "pygments_lexer": "ipython3",
   "version": "3.8.12"
  }
 },
 "nbformat": 4,
 "nbformat_minor": 0
}
