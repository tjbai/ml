{
 "cells": [
  {
   "cell_type": "code",
   "execution_count": 110,
   "metadata": {
    "collapsed": false
   },
   "outputs": [],
   "source": [
    "from utils import save_submission, load_data\n",
    "import numpy as np\n",
    "import copy\n",
    "import matplotlib.pylab as plt\n",
    "%matplotlib inline\n",
    "CLASSES = 10"
   ]
  },
  {
   "cell_type": "code",
   "execution_count": 4,
   "metadata": {
    "collapsed": true
   },
   "outputs": [],
   "source": [
    "def softmax(Z):\n",
    "    \"\"\"\n",
    "    Convert a set of scores from a linear model into a softmax posterior\n",
    "    Input:\n",
    "    Z: N x C array of scores\n",
    "        Z[n][:] is the set of scores for C classes for the n-th example\n",
    "    Output:\n",
    "    S: N x C array\n",
    "        S[n][:] is the softmax distribution over C classes for the n-th example\n",
    "    \"\"\"\n",
    "    # for 1d inputs\n",
    "    if Z.ndim == 1:\n",
    "        Z = Z - np.max(Z)\n",
    "        return np.exp(Z) / np.sum(np.exp(Z))\n",
    "\n",
    "    # for matrix inputs\n",
    "    Z = Z - np.max(Z, axis=1, keepdims=True)\n",
    "    return np.exp(Z) / np.sum(np.exp(Z), axis=1, keepdims=True)\n",
    "\n",
    "def predict(X, model):\n",
    "    \"\"\"\n",
    "    Evaluate the soft predictions of the model.\n",
    "    Input:x \n",
    "    X : N x d array (no unit terms)\n",
    "    model : dictionary containing 'weight' and 'bias'\n",
    "    Output:\n",
    "    yhat : N x C array\n",
    "        yhat[n][:] contains the softmax posterior distribution over C classes for X[n][:]\n",
    "    \"\"\"\n",
    "    return softmax(np.dot(X, model['weight']) + model['bias'])\n",
    "\n",
    "def test(X, Y, model):\n",
    "    \"\"\"\n",
    "    Compute hard label assignments based on model predictions, and return the accuracy vector\n",
    "    Input:\n",
    "    X : N x d array of data (no constant term)\n",
    "    Y : N x C array with 1-hot encoding of true labels\n",
    "    model: dictionary \n",
    "    Output:\n",
    "    acc : N array of errors, acc[n] is 1 if correct and 0 otherwise\n",
    "    \"\"\"\n",
    "    return predict(X, model).argmax(-1) == Y.argmax(-1)\n",
    "\n",
    "def error_rate(X, Y, model):\n",
    "    \"\"\"\n",
    "    Compute error rate (between 0 and 1) for the model\n",
    "    \"\"\"\n",
    "    return 1 - test(X, Y, model).mean()\n",
    "\n",
    "def calc_loss(X, Y, model):\n",
    "    \"\"\"\n",
    "    Evaluate the loss (without regularization penalty), i.e., normalized negative log likelihood\n",
    "    \"\"\"\n",
    "    Z = predict(X, model)\n",
    "    return -(Y * np.log(Z)).sum() / len(Y)"
   ]
  },
  {
   "cell_type": "code",
   "execution_count": 108,
   "metadata": {
    "collapsed": false
   },
   "outputs": [],
   "source": [
    "def calcGrad(X, Y, model):\n",
    "    \"\"\"\n",
    "    Calculate the gradient of the loss w.r.t. model parameters\n",
    "    Output:\n",
    "    grad_W : same dimension as model['weight']; gradient w.r.t. the weights\n",
    "    grad_b : same dimension as model['bias']; gradient w.r.t. the bias terms\n",
    "    \"\"\"\n",
    "    \n",
    "    grad_W = np.zeros_like(model['weight'], dtype=np.float64)\n",
    "    grad_b = np.zeros_like(model['bias'], dtype=np.float64)\n",
    "    \n",
    "    Z = predict(X, model)\n",
    "    N = X.shape[0]\n",
    "    \n",
    "    # slow and imperative for now\n",
    "    for x, y, z in zip(X, Y, Z):\n",
    "        w_grad = (y - z).reshape((1,10))\n",
    "        x = x.reshape((x.shape[0], 1))\n",
    "        grad_W -= np.matmul(x, w_grad)\n",
    "        grad_b += z - y\n",
    "    \n",
    "    return grad_W / N, grad_b / N\n",
    "\n",
    "def modelUpdate(X, Y, model, lambda_, eta):\n",
    "    \"\"\"\n",
    "    Update the model\n",
    "    Input:\n",
    "    X, Y : the inputs and 1-hot encoded labels\n",
    "    model : the currrent model\n",
    "    lambda : regularization coefficient for L2 penalty\n",
    "    eta : learning rate\n",
    "    Output:\n",
    "    updated model\n",
    "    \"\"\"\n",
    "    grad_W, grad_b = calcGrad(X, Y, model)\n",
    "    \n",
    "    model['weight'] -= eta * (grad_W + lambda_ * model['weight'])\n",
    "    model['bias'] -= eta * grad_b\n",
    "    \n",
    "    return model\n",
    "\n",
    "def runTrainVal(X, Y, model, Xval, Yval, trainopt):\n",
    "    \"\"\"\n",
    "    Run the train + evaluation on a given train/val partition\n",
    "    trainopt: various (hyper)parameters of the training procedure\n",
    "    \"\"\"\n",
    "    \n",
    "    eta = trainopt['eta']\n",
    "    \n",
    "    N = X.shape[0] # number of data points in X\n",
    "    \n",
    "    shuffled_idx = np.random.permutation(N)\n",
    "    start_idx = 0\n",
    "    last_loss = 1e10\n",
    "    \n",
    "    for iteration in range(trainopt['maxiter']):\n",
    "        if iteration % int(trainopt['eta_frac'] * trainopt['maxiter']) == 0:\n",
    "            eta *= trainopt['etadrop']\n",
    "        stop_idx = min(start_idx + trainopt['batch_size'], N)\n",
    "        batch_idx = range(N)[int(start_idx):int(stop_idx)]\n",
    "        bX = X[shuffled_idx[batch_idx],:]\n",
    "        bY = Y[shuffled_idx[batch_idx],:]\n",
    "        cur_loss = calc_loss(bX, bY, model)\n",
    "        if (iteration % trainopt['display_iter']) == 0:\n",
    "            print('{:8} batch loss: {:.3f}'.format(iteration, cur_loss))\n",
    "        model = modelUpdate(bX, bY, model, trainopt['lambda'], eta)\n",
    "        \n",
    "        # early stopping criterion\n",
    "        if abs(cur_loss - last_loss) < 1e-3: break\n",
    "        last_loss = cur_loss\n",
    "        \n",
    "        start_idx = stop_idx % N\n",
    "        \n",
    "    # compute train and val error; multiply by 100 for readability (make it percentage points)\n",
    "    trainError = 100 * error_rate(X, Y, model)\n",
    "    valError = 100 * error_rate(Xval, Yval, model)\n",
    "    \n",
    "    return model, valError, trainError"
   ]
  },
  {
   "cell_type": "code",
   "execution_count": 98,
   "metadata": {
    "collapsed": false
   },
   "outputs": [],
   "source": [
    "data_fn = \"nmnist.h5\"\n",
    "Xsmall, Ysmall = load_data(data_fn, \"small_train\")\n",
    "Xlarge, Ylarge = load_data(data_fn, \"large_train\")\n",
    "Xval, Yval = load_data(data_fn, \"val\")"
   ]
  },
  {
   "cell_type": "code",
   "execution_count": 99,
   "metadata": {},
   "outputs": [],
   "source": [
    "'''\n",
    "Observations:\n",
    "\n",
    "With small data sets:\n",
    "- More prone to overfitting and the datasets tend to be \"noisier\", thus regularization\n",
    "    is more important to force the model to make generalizations rather than overfit.\n",
    "    Slightly larger regularization values tend to fare better.\n",
    "    \n",
    "- Results tend to converge more quickly because there is less data to process. It becomes\n",
    "    more feasible to make batch size the entire dataset (taking out the S in SGD)\n",
    "    and obtain better results that way. It may also become necessary to integrate\n",
    "    early stopping techniques once each iteration starts to not improve loss very much.\n",
    "    \n",
    "With large data sets:\n",
    "- We need to carefully find a batch size that balances between efficiency and accuracy.\n",
    "    Choosing a batch size that is too small (like 1-10) does not lead to good results.\n",
    "    \n",
    "- Because the datasets is much larger, it serves as a better proxy of the population.\n",
    "    Slightly smaller lambda values (0.01, 0.05) do better, and in decreasing the \n",
    "    training error significantly often results in a decrease in validation error.\n",
    "    However, there is clearly a happy medium as it is still possible to overfit.\n",
    "    \n",
    "- We tend to want to decrease the etadrop factor to prevent the model from getting \n",
    "    stuck in local optima for a large number of iterations. Sometimes, the early stopping\n",
    "    criterion we implement (which stops training when loss doesn't change by more than 1e-3)\n",
    "    is hit too early.\n",
    "'''\n",
    "\n",
    "# generalized tuning\n",
    "# allows us to set any number of hyperparameter values\n",
    "\n",
    "def tune(features, feature_values, trainopt, model):\n",
    "    models = {}\n",
    "    for feature_value in feature_values:\n",
    "        for key, val in zip(features, feature_value):\n",
    "            trainopt[key] = val\n",
    "        trained_model, valErr, trainErr = runTrainVal(Xsmall, Ysmall, copy.deepcopy(model), Xval, Yval, trainopt)\n",
    "        models[feature_value] = {'model': trained_model, 'val_err': valErr, 'train_err': trainErr}\n",
    "        print(f'{features}: {feature_value}, train error: {trainErr:.2f}, value error: {valErr:.2f}')\n",
    "    return models\n",
    "\n",
    "trainopt = {\n",
    "    'eta': 0.5,\n",
    "    'maxiter': 1000,\n",
    "    'display_iter': 100,\n",
    "    'batch_size': 7000,  \n",
    "    'etadrop': .33,\n",
    "    'eta_frac': .2\n",
    "}\n",
    "\n",
    "NFEATURES = Xsmall.shape[1]\n",
    "seed = np.random.RandomState(2341)\n",
    "random_init = seed.normal(scale=0.01, size=(NFEATURES,CLASSES))\n",
    "model = { 'weight': random_init, 'bias': np.zeros(CLASSES) }\n",
    "\n",
    "# various tests ran:\n",
    "\n",
    "# test different batch sizes\n",
    "# results = tune('batch_size', [1000, 64, 10, 1], trainopt, copy.deepcopy(model))\n",
    "\n",
    "# test different learning rates\n",
    "# results = tune(['eta', 'etadrop'], [(2, 0.75), (1, 0.5)], trainopt, copy.deepcopy(model))\n",
    "\n",
    "# test different eta drops\n",
    "# results = tune(['etadrop', 'eta_frac'], [(0.75, 0.4), (0.5, 0.2), (0.1, 0.2), (0.1, 0.1)], trainopt, copy.deepcopy(model))\n",
    "\n",
    "# test different batch sizes\n",
    "# results = tune(['maxiter', 'batch_size', 'lambda'], [(1000, 400, 0.005)], trainopt, copy.deepcopy(model))"
   ]
  },
  {
   "cell_type": "code",
   "execution_count": 109,
   "metadata": {
    "collapsed": false
   },
   "outputs": [
    {
     "name": "stdout",
     "output_type": "stream",
     "text": [
      "       0 batch loss: 2.304\n",
      "     100 batch loss: 0.644\n",
      "small train set model: -> lambda = 0.0500, train error: 1.00, val error: 30.30\n",
      "       0 batch loss: 2.301\n",
      "     100 batch loss: 1.077\n",
      "large train set model: -> lambda = 0.0500, train error: 18.26, val error: 20.15\n",
      "Best small train model val err: 30.300000000000004\n",
      "Best small train model lambda: 0.05\n",
      "Best large train model val err: 20.150000000000002\n",
      "Best large train model lambda: 0.05\n"
     ]
    }
   ],
   "source": [
    "# FINAL HYPERPARAMETERS\n",
    "trainopt = {\n",
    "    'eta': 0.5,\n",
    "    'maxiter': 1000,\n",
    "    'display_iter': 100,\n",
    "    'batch_size': 7000,  \n",
    "    'etadrop': .33,\n",
    "    'eta_frac': .2\n",
    "}\n",
    "\n",
    "NFEATURES = Xsmall.shape[1]\n",
    "\n",
    "seed = np.random.RandomState(2341)  # to make sure everyone starts from the same point\n",
    "random_init = seed.normal(scale=0.01, size=(NFEATURES,CLASSES)) # -- with random seed fixed\n",
    "\n",
    "model = { 'weight': random_init, 'bias': np.zeros(CLASSES) }\n",
    "\n",
    "lambdas = np.array([0.05])\n",
    "\n",
    "small_trained_models = dict()\n",
    "large_trained_models = dict()\n",
    "\n",
    "# -- small train set: sweep the lambda values\n",
    "for lambda_ in lambdas:\n",
    "    trainopt['lambda'] = lambda_\n",
    "    trained_model, valErr, trainErr = runTrainVal(Xsmall, Ysmall, copy.deepcopy(model), Xval, Yval, trainopt)\n",
    "    small_trained_models[lambda_] = {'model': trained_model, \"val_err\": valErr, \"train_err\": trainErr }\n",
    "    print('small train set model: -> lambda = %.4f, train error: %.2f, val error: %.2f' % (lambda_, trainErr, valErr))\n",
    "    \n",
    "# -- model trained on large train set\n",
    "for lambda_ in lambdas:\n",
    "    trainopt['lambda'] = lambda_\n",
    "    trained_model, valErr, trainErr = runTrainVal(Xlarge, Ylarge, copy.deepcopy(model), Xval, Yval, trainopt)\n",
    "    large_trained_models[lambda_] = {'model': trained_model, \"val_err\": valErr, \"train_err\": trainErr }\n",
    "    print('large train set model: -> lambda = %.4f, train error: %.2f, val error: %.2f' % (lambda_, trainErr, valErr))\n",
    "    \n",
    "best_small_trained_lambda = 0.\n",
    "best_small_trained_model = None\n",
    "best_small_trained_val_err = 100.\n",
    "for lambda_,results in small_trained_models.items():\n",
    "    if results['val_err'] < best_small_trained_val_err:\n",
    "        best_small_trained_val_err = results['val_err']\n",
    "        best_small_trained_model = results['model']\n",
    "        best_small_trained_lambda = lambda_\n",
    "        \n",
    "best_large_trained_lambda = 0.\n",
    "best_large_trained_model = None\n",
    "best_large_trained_val_err = 100.\n",
    "for lambda_,results in large_trained_models.items():\n",
    "    if results['val_err'] < best_large_trained_val_err:\n",
    "        best_large_trained_val_err = results['val_err']\n",
    "        best_large_trained_model = results['model']\n",
    "        best_large_trained_lambda = lambda_\n",
    "\n",
    "print(\"Best small train model val err:\", best_small_trained_val_err)\n",
    "print(\"Best small train model lambda:\", best_small_trained_lambda)\n",
    "print(\"Best large train model val err:\", best_large_trained_val_err)\n",
    "print(\"Best large train model lambda:\", best_large_trained_lambda)"
   ]
  },
  {
   "cell_type": "code",
   "execution_count": 111,
   "metadata": {
    "collapsed": false
   },
   "outputs": [
    {
     "name": "stdout",
     "output_type": "stream",
     "text": [
      "Saved: submission-small.csv\n",
      "Saved: submission-large.csv\n"
     ]
    }
   ],
   "source": [
    "#Generate a Kaggle submission file using `model`\n",
    "\n",
    "#for model trained on small_train\n",
    "kaggleX = load_data(data_fn, 'kaggle')\n",
    "kaggleYhat_small = predict(kaggleX, best_small_trained_model).argmax(-1)\n",
    "save_submission('submission-small.csv', kaggleYhat_small)\n",
    "\n",
    "#for model trained on large_train\n",
    "kaggleYhat_large = predict(kaggleX, best_large_trained_model).argmax(-1)\n",
    "save_submission('submission-large.csv', kaggleYhat_large)\n"
   ]
  },
  {
   "cell_type": "code",
   "execution_count": 120,
   "metadata": {},
   "outputs": [
    {
     "data": {
      "text/plain": [
       "array([[157,   0,   6,   6,   1,   9,   4,   4,   3,   3],\n",
       "       [  0, 215,  35,  15,   4,  16,  13,  13,  26,   6],\n",
       "       [  3,   1, 117,   9,   3,   5,   5,   0,   5,   4],\n",
       "       [  1,   0,   8, 104,   0,  24,   0,   1,  11,   3],\n",
       "       [  1,   1,   5,   0, 142,  16,  12,   3,   4,  15],\n",
       "       [  3,   0,   1,  11,   3,  63,   4,   1,   2,   0],\n",
       "       [ 14,   0,   3,   0,   1,   7, 171,   0,   1,   3],\n",
       "       [  2,   1,   7,   4,   7,   6,   2, 176,   2,  14],\n",
       "       [  3,   3,  23,  21,   1,  12,   3,   3, 117,   6],\n",
       "       [  3,   2,   5,  13,  31,  14,   3,  32,  25, 132]])"
      ]
     },
     "execution_count": 120,
     "metadata": {},
     "output_type": "execute_result"
    }
   ],
   "source": [
    "# create confusion matrices\n",
    "\n",
    "pred = predict(Xval, best_small_trained_model)\n",
    "C = np.zeros((10,10), dtype=np.int64)\n",
    "\n",
    "for i, j in zip(pred.argmax(-1), Yval.argmax(-1)):\n",
    "    C[i][j] += 1\n",
    "    \n",
    "C"
   ]
  },
  {
   "cell_type": "code",
   "execution_count": 121,
   "metadata": {},
   "outputs": [
    {
     "data": {
      "text/plain": [
       "array([[173,   0,   5,   1,   1,   7,   3,   3,   3,   2],\n",
       "       [  0, 214,  12,   6,   2,   7,   7,  10,  22,   3],\n",
       "       [  1,   3, 158,   9,   0,   3,   2,   0,   7,   5],\n",
       "       [  2,   1,   7, 151,   1,  39,   0,   2,  21,   7],\n",
       "       [  0,   0,   3,   0, 164,   6,   5,   5,   3,  14],\n",
       "       [  0,   1,   1,   2,   2,  88,   2,   0,   4,   0],\n",
       "       [  9,   0,   7,   2,   3,   8, 195,   0,   2,   2],\n",
       "       [  0,   2,   4,   5,   6,   5,   0, 198,   0,  23],\n",
       "       [  1,   2,   8,   4,   1,   5,   3,   3, 128,   2],\n",
       "       [  1,   0,   5,   3,  13,   4,   0,  12,   6, 128]])"
      ]
     },
     "execution_count": 121,
     "metadata": {},
     "output_type": "execute_result"
    }
   ],
   "source": [
    "pred = predict(Xval, best_large_trained_model)\n",
    "C = np.zeros((10,10), dtype=np.int64)\n",
    "\n",
    "for i, j in zip(pred.argmax(-1), Yval.argmax(-1)):\n",
    "    C[i][j] += 1\n",
    "\n",
    "C"
   ]
  },
  {
   "cell_type": "code",
   "execution_count": 131,
   "metadata": {},
   "outputs": [
    {
     "data": {
      "image/png": "[encoded data removed]",
      "text/plain": [
       "<Figure size 1500x600 with 10 Axes>"
      ]
     },
     "metadata": {},
     "output_type": "display_data"
    }
   ],
   "source": [
    "_, axes = plt.subplots(2, 5, figsize=(15, 6))\n",
    "for i in range(10):\n",
    "    ax = axes[i//5, i%5]\n",
    "    ax.imshow(best_small_trained_model['weight'][:,i].reshape(24,24))\n",
    "    ax.axis('off')"
   ]
  },
  {
   "cell_type": "code",
   "execution_count": 132,
   "metadata": {},
   "outputs": [
    {
     "data": {
      "image/png": "[encoded data removed]",
      "text/plain": [
       "<Figure size 1500x600 with 10 Axes>"
      ]
     },
     "metadata": {},
     "output_type": "display_data"
    }
   ],
   "source": [
    "_, axes = plt.subplots(2, 5, figsize=(15, 6))\n",
    "for i in range(10):\n",
    "    ax = axes[i//5, i%5]\n",
    "    ax.imshow(best_large_trained_model['weight'][:,i].reshape(24,24))\n",
    "    ax.axis('off')"
   ]
  }
 ],
 "metadata": {
  "anaconda-cloud": {},
  "kernelspec": {
   "display_name": "Python 3.8.12 ('venv': venv)",
   "language": "python",
   "name": "python3"
  },
  "language_info": {
   "codemirror_mode": {
    "name": "ipython",
    "version": 3
   },
   "file_extension": ".py",
   "mimetype": "text/x-python",
   "name": "python",
   "nbconvert_exporter": "python",
   "pygments_lexer": "ipython3",
   "version": "3.8.12"
  },
  "vscode": {
   "interpreter": {
    "hash": "678290aa2b65775a56f3ecc47b847684f795f366091cebbef95bab61154e4e1a"
   }
  }
 },
 "nbformat": 4,
 "nbformat_minor": 0
}
