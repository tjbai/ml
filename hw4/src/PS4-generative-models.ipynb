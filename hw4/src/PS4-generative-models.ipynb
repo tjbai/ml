{
 "cells": [
  {
   "cell_type": "code",
   "execution_count": 9,
   "metadata": {
    "collapsed": false
   },
   "outputs": [],
   "source": [
    "from __future__ import division\n",
    "from ps4_utils import load_data,load_experiment\n",
    "from ps4_utils import AbstractGenerativeModel\n",
    "from ps4_utils import save_submission\n",
    "from scipy.special import logsumexp\n",
    "import numpy as np\n",
    "data_fn = \"datasets-ps4.h5\"\n",
    "MAX_OUTER_ITER = 15"
   ]
  },
  {
   "cell_type": "code",
   "execution_count": 18,
   "metadata": {
    "collapsed": false
   },
   "outputs": [],
   "source": [
    "class MixtureModel(AbstractGenerativeModel):\n",
    "    def __init__(self, CLASSES, NUM_FEATURES, NUM_MIXTURE_COMPONENTS, MAX_ITER=50, EPS=1e-7):\n",
    "        super().__init__(CLASSES, NUM_FEATURES)\n",
    "        \n",
    "        self.epsilon = EPS              # clamp theta in [eps, 1-eps]\n",
    "        self.max_iter = MAX_ITER        # iterations of EM algo\n",
    "        self.num_mixture_components = NUM_MIXTURE_COMPONENTS\n",
    "        \n",
    "        self.params = {}\n",
    "        self.params['pi'] = [np.repeat(1/k, k) for k in self.num_mixture_components] # mixture probabilities\n",
    "        self.params['theta'] = [np.zeros((self.num_features, k)) for k in self.num_mixture_components] # component probabilities\n",
    "        \n",
    "    def pack_params(self, X, class_idx):\n",
    "        pi, theta = self.fit(X[class_idx], class_idx)\n",
    "        self.params['pi'][class_idx] = pi\n",
    "        self.params['theta'][class_idx] = theta\n",
    "        \n",
    "    def classify(self, X):\n",
    "        P = list()\n",
    "        pi = self.params['pi']\n",
    "        theta = self.params['theta']\n",
    "        for c in range(self.num_classes):\n",
    "            _, Pc = self.findP(X, pi[c], theta[c])\n",
    "            P.append(Pc)\n",
    "        return np.vstack(P).T.argmax(-1)\n",
    "\n",
    "    # --- E-step\n",
    "    def updateLatentPosterior(self, X, pi, theta, nmm):\n",
    "        logits, norm = self.findP(X, pi, theta) \n",
    "        if nmm == 1: return np.ones((len(X), 1)) # shape quirk\n",
    "        return np.exp(logits - norm[:, np.newaxis])\n",
    "    \n",
    "    # --- M-step (1)\n",
    "    @staticmethod\n",
    "    def updatePi(gamma):\n",
    "        return np.sum(gamma, axis=0) / len(gamma)\n",
    "    \n",
    "    # -- M-step (2)\n",
    "    @staticmethod\n",
    "    def updateTheta(X, gamma):\n",
    "        return X.T @ gamma / np.sum(gamma, axis=0)\n",
    "    \n",
    "    @staticmethod\n",
    "    def findP(X, pi, theta):\n",
    "        res = np.repeat([np.log(pi)], len(X), axis=0) \\\n",
    "            + X @ np.log(theta) \\\n",
    "            + (1 - X) @ np.log(1 - theta)\n",
    "        return res, logsumexp(res, axis=1)            # NxK, N\n",
    "    \n",
    "    @staticmethod\n",
    "    def randomAssignment(X, nmm):\n",
    "        theta = np.zeros((nmm, len(X[0])))\n",
    "        for x in X: theta[np.random.randint(0, nmm)] += x\n",
    "        return (theta / np.sum(theta, axis=1)[:, np.newaxis]).T\n",
    "        \n",
    "    # --- execute EM procedure\n",
    "    def fit(self, X, class_idx):\n",
    "        nmm = self.num_mixture_components[class_idx]\n",
    "        pi = self.params['pi'][class_idx]\n",
    "        theta = np.clip(self.randomAssignment(X, nmm), self.epsilon, 1 - self.epsilon)\n",
    "        \n",
    "        for _ in range(self.max_iter):\n",
    "            gamma = self.updateLatentPosterior(X, pi, theta, nmm)\n",
    "            pi = self.updatePi(gamma)\n",
    "            theta = np.clip(self.updateTheta(X, gamma), self.epsilon, 1-self.epsilon)\n",
    "            \n",
    "        return pi, theta"
   ]
  },
  {
   "cell_type": "code",
   "execution_count": 20,
   "metadata": {
    "collapsed": false
   },
   "outputs": [],
   "source": [
    "class NaiveBayesModel(AbstractGenerativeModel):\n",
    "    def __init__(self, CLASSES, NUM_FEATURES, EPS=1e-12):\n",
    "        super().__init__(CLASSES, NUM_FEATURES)\n",
    "        \n",
    "        # for numerical stability\n",
    "        self.eps = EPS\n",
    "        \n",
    "        # p[i][j] = p (jth feature = 1 | class i)\n",
    "        self.params = {'p': [np.zeros((NUM_FEATURES))] * self.num_classes} \n",
    "        \n",
    "    def pack_params(self, X, class_idx):\n",
    "        self.params['p'][class_idx] = self.fit(X[class_idx])\n",
    "        \n",
    "    def classify(self, X):\n",
    "        res = np.zeros(len(X))\n",
    "        \n",
    "        # each of these is CxD\n",
    "        one_prob = np.log(np.array(self.params['p']) + self.eps) \n",
    "        zero_prob = np.log(1 + self.eps - np.array(self.params['p']))\n",
    "        \n",
    "        # this is NxC\n",
    "        logits = X @ one_prob.T + (1 - X) @ zero_prob.T\n",
    "        \n",
    "        # take maximum along rows\n",
    "        return np.argmax(logits, axis=1)\n",
    "    \n",
    "    def fit(self, X) -> np.ndarray:\n",
    "        return np.sum(X, axis=0) / len(X)"
   ]
  },
  {
   "cell_type": "code",
   "execution_count": 21,
   "metadata": {
    "collapsed": false
   },
   "outputs": [
    {
     "name": "stdout",
     "output_type": "stream",
     "text": [
      "SENTIMENT ANALYSIS -- NAIVE BAYES MODEL:\n",
      "ACCURACY ON VALIDATION: 0.74\n",
      "SENTIMENT ANALYSIS -- MIXTURE MODEL:\n",
      "COMPONENTS: 14 9\n",
      "ACCURACY ON VALIDATION: 0.73\n",
      "COMPONENTS: 11 2\n",
      "ACCURACY ON VALIDATION: 0.694\n",
      "COMPONENTS: 12 7\n"
     ]
    },
    {
     "ename": "KeyboardInterrupt",
     "evalue": "",
     "output_type": "error",
     "traceback": [
      "\u001b[0;31m---------------------------------------------------------------------------\u001b[0m",
      "\u001b[0;31mKeyboardInterrupt\u001b[0m                         Traceback (most recent call last)",
      "\u001b[1;32m/Users/bai/Desktop/ml/hw4/src/PS4-generative-models.ipynb Cell 5\u001b[0m line \u001b[0;36m1\n\u001b[1;32m     <a href='vscode-notebook-cell:/Users/bai/Desktop/ml/hw4/src/PS4-generative-models.ipynb#W4sZmlsZQ%3D%3D?line=14'>15</a>\u001b[0m     \u001b[39mprint\u001b[39m(\u001b[39m\"\u001b[39m\u001b[39mCOMPONENTS: \u001b[39m\u001b[39m\"\u001b[39m \u001b[39m+\u001b[39m \u001b[39m\"\u001b[39m\u001b[39m \u001b[39m\u001b[39m\"\u001b[39m\u001b[39m.\u001b[39mjoin(\u001b[39mstr\u001b[39m(i) \u001b[39mfor\u001b[39;00m i \u001b[39min\u001b[39;00m num_mixture_components))\n\u001b[1;32m     <a href='vscode-notebook-cell:/Users/bai/Desktop/ml/hw4/src/PS4-generative-models.ipynb#W4sZmlsZQ%3D%3D?line=15'>16</a>\u001b[0m     mm \u001b[39m=\u001b[39m MixtureModel(num_classes, num_features, num_mixture_components)\n\u001b[0;32m---> <a href='vscode-notebook-cell:/Users/bai/Desktop/ml/hw4/src/PS4-generative-models.ipynb#W4sZmlsZQ%3D%3D?line=16'>17</a>\u001b[0m     mm\u001b[39m.\u001b[39;49mtrain(Xtrain)\n\u001b[1;32m     <a href='vscode-notebook-cell:/Users/bai/Desktop/ml/hw4/src/PS4-generative-models.ipynb#W4sZmlsZQ%3D%3D?line=17'>18</a>\u001b[0m     \u001b[39mprint\u001b[39m(\u001b[39m\"\u001b[39m\u001b[39mACCURACY ON VALIDATION: \u001b[39m\u001b[39m\"\u001b[39m \u001b[39m+\u001b[39m \u001b[39mstr\u001b[39m(mm\u001b[39m.\u001b[39mval(Xval)))\n\u001b[1;32m     <a href='vscode-notebook-cell:/Users/bai/Desktop/ml/hw4/src/PS4-generative-models.ipynb#W4sZmlsZQ%3D%3D?line=19'>20</a>\u001b[0m \u001b[39m# submit to kaggle\u001b[39;00m\n",
      "File \u001b[0;32m~/Desktop/ml/hw4/src/ps4_utils.py:46\u001b[0m, in \u001b[0;36mAbstractGenerativeModel.train\u001b[0;34m(self, X)\u001b[0m\n\u001b[1;32m     44\u001b[0m \u001b[39mdef\u001b[39;00m \u001b[39mtrain\u001b[39m(\u001b[39mself\u001b[39m, X):\n\u001b[1;32m     45\u001b[0m     \u001b[39mfor\u001b[39;00m c \u001b[39min\u001b[39;00m \u001b[39mrange\u001b[39m(\u001b[39mself\u001b[39m\u001b[39m.\u001b[39mnum_classes):\n\u001b[0;32m---> 46\u001b[0m         \u001b[39mself\u001b[39;49m\u001b[39m.\u001b[39;49mpack_params(X, c)\n",
      "\u001b[1;32m/Users/bai/Desktop/ml/hw4/src/PS4-generative-models.ipynb Cell 5\u001b[0m line \u001b[0;36m1\n\u001b[1;32m     <a href='vscode-notebook-cell:/Users/bai/Desktop/ml/hw4/src/PS4-generative-models.ipynb#W4sZmlsZQ%3D%3D?line=12'>13</a>\u001b[0m \u001b[39mdef\u001b[39;00m \u001b[39mpack_params\u001b[39m(\u001b[39mself\u001b[39m, X, class_idx):\n\u001b[0;32m---> <a href='vscode-notebook-cell:/Users/bai/Desktop/ml/hw4/src/PS4-generative-models.ipynb#W4sZmlsZQ%3D%3D?line=13'>14</a>\u001b[0m     pi, theta \u001b[39m=\u001b[39m \u001b[39mself\u001b[39;49m\u001b[39m.\u001b[39;49mfit(X[class_idx], class_idx)\n\u001b[1;32m     <a href='vscode-notebook-cell:/Users/bai/Desktop/ml/hw4/src/PS4-generative-models.ipynb#W4sZmlsZQ%3D%3D?line=14'>15</a>\u001b[0m     \u001b[39mself\u001b[39m\u001b[39m.\u001b[39mparams[\u001b[39m'\u001b[39m\u001b[39mpi\u001b[39m\u001b[39m'\u001b[39m][class_idx] \u001b[39m=\u001b[39m pi\n\u001b[1;32m     <a href='vscode-notebook-cell:/Users/bai/Desktop/ml/hw4/src/PS4-generative-models.ipynb#W4sZmlsZQ%3D%3D?line=15'>16</a>\u001b[0m     \u001b[39mself\u001b[39m\u001b[39m.\u001b[39mparams[\u001b[39m'\u001b[39m\u001b[39mtheta\u001b[39m\u001b[39m'\u001b[39m][class_idx] \u001b[39m=\u001b[39m theta\n",
      "\u001b[1;32m/Users/bai/Desktop/ml/hw4/src/PS4-generative-models.ipynb Cell 5\u001b[0m line \u001b[0;36m6\n\u001b[1;32m     <a href='vscode-notebook-cell:/Users/bai/Desktop/ml/hw4/src/PS4-generative-models.ipynb#W4sZmlsZQ%3D%3D?line=66'>67</a>\u001b[0m     gamma \u001b[39m=\u001b[39m \u001b[39mself\u001b[39m\u001b[39m.\u001b[39mupdateLatentPosterior(X, pi, theta, nmm)\n\u001b[1;32m     <a href='vscode-notebook-cell:/Users/bai/Desktop/ml/hw4/src/PS4-generative-models.ipynb#W4sZmlsZQ%3D%3D?line=67'>68</a>\u001b[0m     pi \u001b[39m=\u001b[39m \u001b[39mself\u001b[39m\u001b[39m.\u001b[39mupdatePi(gamma)\n\u001b[0;32m---> <a href='vscode-notebook-cell:/Users/bai/Desktop/ml/hw4/src/PS4-generative-models.ipynb#W4sZmlsZQ%3D%3D?line=68'>69</a>\u001b[0m     theta \u001b[39m=\u001b[39m np\u001b[39m.\u001b[39mclip(\u001b[39mself\u001b[39;49m\u001b[39m.\u001b[39;49mupdateTheta(X, gamma), \u001b[39mself\u001b[39m\u001b[39m.\u001b[39mepsilon, \u001b[39m1\u001b[39m\u001b[39m-\u001b[39m\u001b[39mself\u001b[39m\u001b[39m.\u001b[39mepsilon)\n\u001b[1;32m     <a href='vscode-notebook-cell:/Users/bai/Desktop/ml/hw4/src/PS4-generative-models.ipynb#W4sZmlsZQ%3D%3D?line=70'>71</a>\u001b[0m \u001b[39mreturn\u001b[39;00m pi, theta\n",
      "\u001b[1;32m/Users/bai/Desktop/ml/hw4/src/PS4-generative-models.ipynb Cell 5\u001b[0m line \u001b[0;36m4\n\u001b[1;32m     <a href='vscode-notebook-cell:/Users/bai/Desktop/ml/hw4/src/PS4-generative-models.ipynb#W4sZmlsZQ%3D%3D?line=37'>38</a>\u001b[0m \u001b[39m@staticmethod\u001b[39m\n\u001b[1;32m     <a href='vscode-notebook-cell:/Users/bai/Desktop/ml/hw4/src/PS4-generative-models.ipynb#W4sZmlsZQ%3D%3D?line=38'>39</a>\u001b[0m \u001b[39mdef\u001b[39;00m \u001b[39mupdateTheta\u001b[39m(X, gamma):\n\u001b[0;32m---> <a href='vscode-notebook-cell:/Users/bai/Desktop/ml/hw4/src/PS4-generative-models.ipynb#W4sZmlsZQ%3D%3D?line=39'>40</a>\u001b[0m     \u001b[39mreturn\u001b[39;00m X\u001b[39m.\u001b[39;49mT \u001b[39m@\u001b[39;49m gamma \u001b[39m/\u001b[39m np\u001b[39m.\u001b[39msum(gamma, axis\u001b[39m=\u001b[39m\u001b[39m0\u001b[39m)\n",
      "\u001b[0;31mKeyboardInterrupt\u001b[0m: "
     ]
    }
   ],
   "source": [
    "experiment_name = \"sentiment_analysis\"\n",
    "# --- SENTIMENT ANALYSIS setup\n",
    "Xtrain, Xval, num_classes, num_features = load_experiment(data_fn, experiment_name)\n",
    "\n",
    "# -- build naive bayes model for sentiment analysis\n",
    "print(\"SENTIMENT ANALYSIS -- NAIVE BAYES MODEL:\")\n",
    "nbm = NaiveBayesModel(num_classes, num_features)\n",
    "nbm.train(Xtrain)\n",
    "print(\"ACCURACY ON VALIDATION: \" + str(nbm.val(Xval)))\n",
    "\n",
    "# -- build mixture model for sentiment analysis\n",
    "print(\"SENTIMENT ANALYSIS -- MIXTURE MODEL:\")\n",
    "for i in range(MAX_OUTER_ITER):\n",
    "    num_mixture_components =  np.random.randint(2,15,num_classes)\n",
    "    print(\"COMPONENTS: \" + \" \".join(str(i) for i in num_mixture_components))\n",
    "    mm = MixtureModel(num_classes, num_features, num_mixture_components)\n",
    "    mm.train(Xtrain)\n",
    "    print(\"ACCURACY ON VALIDATION: \" + str(mm.val(Xval)))\n",
    "\n",
    "# submit to kaggle\n",
    "Xkaggle = load_data(data_fn, experiment_name, \"kaggle\")\n",
    "save_submission(\"mm-{}-submission.csv\".format(experiment_name), mm.classify(Xkaggle))"
   ]
  },
  {
   "cell_type": "code",
   "execution_count": 6,
   "metadata": {
    "collapsed": false
   },
   "outputs": [
    {
     "name": "stdout",
     "output_type": "stream",
     "text": [
      "MNIST DIGIT CLASSIFICATION -- NAIVE BAYES MODEL:\n",
      "ACCURACY ON VALIDATION: 0.7355\n",
      "\n",
      "MNIST DIGIT CLASSIFICATION -- MIXTURE MODEL:\n",
      "COMPONENTS: 10 7 8 8 13 4 14 8 12 6\n",
      "ACCURACY ON VALIDATION: 0.7735\n",
      "COMPONENTS: 7 10 3 3 11 10 11 9 11 6\n",
      "ACCURACY ON VALIDATION: 0.77\n",
      "COMPONENTS: 7 9 14 3 13 4 8 3 14 8\n",
      "ACCURACY ON VALIDATION: 0.7655\n",
      "COMPONENTS: 6 11 7 11 12 10 5 6 7 10\n",
      "ACCURACY ON VALIDATION: 0.7905\n",
      "COMPONENTS: 3 8 12 11 14 9 3 9 12 7\n",
      "ACCURACY ON VALIDATION: 0.7675\n",
      "COMPONENTS: 6 4 12 12 7 2 5 9 5 4\n"
     ]
    },
    {
     "ename": "KeyboardInterrupt",
     "evalue": "",
     "output_type": "error",
     "traceback": [
      "\u001b[0;31m---------------------------------------------------------------------------\u001b[0m",
      "\u001b[0;31mKeyboardInterrupt\u001b[0m                         Traceback (most recent call last)",
      "\u001b[1;32m/Users/bai/Desktop/ml/hw4/src/PS4-generative-models.ipynb Cell 5\u001b[0m line \u001b[0;36m1\n\u001b[1;32m     <a href='vscode-notebook-cell:/Users/bai/Desktop/ml/hw4/src/PS4-generative-models.ipynb#W5sZmlsZQ%3D%3D?line=15'>16</a>\u001b[0m     \u001b[39mprint\u001b[39m(\u001b[39m\"\u001b[39m\u001b[39mCOMPONENTS: \u001b[39m\u001b[39m\"\u001b[39m \u001b[39m+\u001b[39m \u001b[39m\"\u001b[39m\u001b[39m \u001b[39m\u001b[39m\"\u001b[39m\u001b[39m.\u001b[39mjoin(\u001b[39mstr\u001b[39m(i) \u001b[39mfor\u001b[39;00m i \u001b[39min\u001b[39;00m num_mixture_components))\n\u001b[1;32m     <a href='vscode-notebook-cell:/Users/bai/Desktop/ml/hw4/src/PS4-generative-models.ipynb#W5sZmlsZQ%3D%3D?line=16'>17</a>\u001b[0m     mm \u001b[39m=\u001b[39m MixtureModel(num_classes, num_features, num_mixture_components)\n\u001b[0;32m---> <a href='vscode-notebook-cell:/Users/bai/Desktop/ml/hw4/src/PS4-generative-models.ipynb#W5sZmlsZQ%3D%3D?line=17'>18</a>\u001b[0m     mm\u001b[39m.\u001b[39;49mtrain(Xtrain)\n\u001b[1;32m     <a href='vscode-notebook-cell:/Users/bai/Desktop/ml/hw4/src/PS4-generative-models.ipynb#W5sZmlsZQ%3D%3D?line=18'>19</a>\u001b[0m     \u001b[39mprint\u001b[39m(\u001b[39m\"\u001b[39m\u001b[39mACCURACY ON VALIDATION: \u001b[39m\u001b[39m\"\u001b[39m \u001b[39m+\u001b[39m \u001b[39mstr\u001b[39m(mm\u001b[39m.\u001b[39mval(Xval)))\n\u001b[1;32m     <a href='vscode-notebook-cell:/Users/bai/Desktop/ml/hw4/src/PS4-generative-models.ipynb#W5sZmlsZQ%3D%3D?line=20'>21</a>\u001b[0m \u001b[39m# submit to kaggle\u001b[39;00m\n",
      "File \u001b[0;32m~/Desktop/ml/hw4/src/ps4_utils.py:46\u001b[0m, in \u001b[0;36mAbstractGenerativeModel.train\u001b[0;34m(self, X)\u001b[0m\n\u001b[1;32m     44\u001b[0m \u001b[39mdef\u001b[39;00m \u001b[39mtrain\u001b[39m(\u001b[39mself\u001b[39m, X):\n\u001b[1;32m     45\u001b[0m     \u001b[39mfor\u001b[39;00m c \u001b[39min\u001b[39;00m \u001b[39mrange\u001b[39m(\u001b[39mself\u001b[39m\u001b[39m.\u001b[39mnum_classes):\n\u001b[0;32m---> 46\u001b[0m         \u001b[39mself\u001b[39;49m\u001b[39m.\u001b[39;49mpack_params(X, c)\n",
      "\u001b[1;32m/Users/bai/Desktop/ml/hw4/src/PS4-generative-models.ipynb Cell 5\u001b[0m line \u001b[0;36m1\n\u001b[1;32m     <a href='vscode-notebook-cell:/Users/bai/Desktop/ml/hw4/src/PS4-generative-models.ipynb#W5sZmlsZQ%3D%3D?line=12'>13</a>\u001b[0m \u001b[39mdef\u001b[39;00m \u001b[39mpack_params\u001b[39m(\u001b[39mself\u001b[39m, X, class_idx):\n\u001b[0;32m---> <a href='vscode-notebook-cell:/Users/bai/Desktop/ml/hw4/src/PS4-generative-models.ipynb#W5sZmlsZQ%3D%3D?line=13'>14</a>\u001b[0m     pi, theta \u001b[39m=\u001b[39m \u001b[39mself\u001b[39;49m\u001b[39m.\u001b[39;49mfit(X[class_idx], class_idx)\n\u001b[1;32m     <a href='vscode-notebook-cell:/Users/bai/Desktop/ml/hw4/src/PS4-generative-models.ipynb#W5sZmlsZQ%3D%3D?line=14'>15</a>\u001b[0m     \u001b[39mself\u001b[39m\u001b[39m.\u001b[39mparams[\u001b[39m'\u001b[39m\u001b[39mpi\u001b[39m\u001b[39m'\u001b[39m][class_idx] \u001b[39m=\u001b[39m pi\n\u001b[1;32m     <a href='vscode-notebook-cell:/Users/bai/Desktop/ml/hw4/src/PS4-generative-models.ipynb#W5sZmlsZQ%3D%3D?line=15'>16</a>\u001b[0m     \u001b[39mself\u001b[39m\u001b[39m.\u001b[39mparams[\u001b[39m'\u001b[39m\u001b[39mtheta\u001b[39m\u001b[39m'\u001b[39m][class_idx] \u001b[39m=\u001b[39m theta\n",
      "\u001b[1;32m/Users/bai/Desktop/ml/hw4/src/PS4-generative-models.ipynb Cell 5\u001b[0m line \u001b[0;36m6\n\u001b[1;32m     <a href='vscode-notebook-cell:/Users/bai/Desktop/ml/hw4/src/PS4-generative-models.ipynb#W5sZmlsZQ%3D%3D?line=65'>66</a>\u001b[0m theta \u001b[39m=\u001b[39m np\u001b[39m.\u001b[39mclip(\u001b[39mself\u001b[39m\u001b[39m.\u001b[39mrandomAssignment(X, nmm), \u001b[39mself\u001b[39m\u001b[39m.\u001b[39mepsilon, \u001b[39m1\u001b[39m \u001b[39m-\u001b[39m \u001b[39mself\u001b[39m\u001b[39m.\u001b[39mepsilon)\n\u001b[1;32m     <a href='vscode-notebook-cell:/Users/bai/Desktop/ml/hw4/src/PS4-generative-models.ipynb#W5sZmlsZQ%3D%3D?line=67'>68</a>\u001b[0m \u001b[39mfor\u001b[39;00m i \u001b[39min\u001b[39;00m \u001b[39mrange\u001b[39m(\u001b[39mself\u001b[39m\u001b[39m.\u001b[39mmax_iter):\n\u001b[0;32m---> <a href='vscode-notebook-cell:/Users/bai/Desktop/ml/hw4/src/PS4-generative-models.ipynb#W5sZmlsZQ%3D%3D?line=68'>69</a>\u001b[0m     gamma \u001b[39m=\u001b[39m \u001b[39mself\u001b[39;49m\u001b[39m.\u001b[39;49mupdateLatentPosterior(X, pi, theta, nmm)\n\u001b[1;32m     <a href='vscode-notebook-cell:/Users/bai/Desktop/ml/hw4/src/PS4-generative-models.ipynb#W5sZmlsZQ%3D%3D?line=69'>70</a>\u001b[0m     pi \u001b[39m=\u001b[39m \u001b[39mself\u001b[39m\u001b[39m.\u001b[39mupdatePi(gamma)\n\u001b[1;32m     <a href='vscode-notebook-cell:/Users/bai/Desktop/ml/hw4/src/PS4-generative-models.ipynb#W5sZmlsZQ%3D%3D?line=70'>71</a>\u001b[0m     theta \u001b[39m=\u001b[39m np\u001b[39m.\u001b[39mclip(\u001b[39mself\u001b[39m\u001b[39m.\u001b[39mupdateTheta(X, gamma), \u001b[39mself\u001b[39m\u001b[39m.\u001b[39mepsilon, \u001b[39m1\u001b[39m\u001b[39m-\u001b[39m\u001b[39mself\u001b[39m\u001b[39m.\u001b[39mepsilon)\n",
      "\u001b[1;32m/Users/bai/Desktop/ml/hw4/src/PS4-generative-models.ipynb Cell 5\u001b[0m line \u001b[0;36m2\n\u001b[1;32m     <a href='vscode-notebook-cell:/Users/bai/Desktop/ml/hw4/src/PS4-generative-models.ipynb#W5sZmlsZQ%3D%3D?line=27'>28</a>\u001b[0m \u001b[39mdef\u001b[39;00m \u001b[39mupdateLatentPosterior\u001b[39m(\u001b[39mself\u001b[39m, X, pi, theta, _):\n\u001b[0;32m---> <a href='vscode-notebook-cell:/Users/bai/Desktop/ml/hw4/src/PS4-generative-models.ipynb#W5sZmlsZQ%3D%3D?line=28'>29</a>\u001b[0m     logits, norm \u001b[39m=\u001b[39m \u001b[39mself\u001b[39;49m\u001b[39m.\u001b[39;49mfindP(X, pi, theta)\n\u001b[1;32m     <a href='vscode-notebook-cell:/Users/bai/Desktop/ml/hw4/src/PS4-generative-models.ipynb#W5sZmlsZQ%3D%3D?line=29'>30</a>\u001b[0m     \u001b[39mreturn\u001b[39;00m np\u001b[39m.\u001b[39mexp(logits \u001b[39m-\u001b[39m norm[:, np\u001b[39m.\u001b[39mnewaxis])\n",
      "\u001b[1;32m/Users/bai/Desktop/ml/hw4/src/PS4-generative-models.ipynb Cell 5\u001b[0m line \u001b[0;36m4\n\u001b[1;32m     <a href='vscode-notebook-cell:/Users/bai/Desktop/ml/hw4/src/PS4-generative-models.ipynb#W5sZmlsZQ%3D%3D?line=43'>44</a>\u001b[0m one_prob \u001b[39m=\u001b[39m np\u001b[39m.\u001b[39mlog(theta)                      \u001b[39m# DxK\u001b[39;00m\n\u001b[1;32m     <a href='vscode-notebook-cell:/Users/bai/Desktop/ml/hw4/src/PS4-generative-models.ipynb#W5sZmlsZQ%3D%3D?line=44'>45</a>\u001b[0m zero_prob \u001b[39m=\u001b[39m np\u001b[39m.\u001b[39mlog(\u001b[39m1\u001b[39m \u001b[39m-\u001b[39m theta)                 \u001b[39m# DxK\u001b[39;00m\n\u001b[1;32m     <a href='vscode-notebook-cell:/Users/bai/Desktop/ml/hw4/src/PS4-generative-models.ipynb#W5sZmlsZQ%3D%3D?line=45'>46</a>\u001b[0m res \u001b[39m=\u001b[39m np\u001b[39m.\u001b[39mrepeat([np\u001b[39m.\u001b[39mlog(pi)], \u001b[39mlen\u001b[39m(X), axis\u001b[39m=\u001b[39m\u001b[39m0\u001b[39m) \\\n\u001b[0;32m---> <a href='vscode-notebook-cell:/Users/bai/Desktop/ml/hw4/src/PS4-generative-models.ipynb#W5sZmlsZQ%3D%3D?line=46'>47</a>\u001b[0m       \u001b[39m+\u001b[39m X \u001b[39m@\u001b[39;49m one_prob \u001b[39m+\u001b[39m (\u001b[39m1\u001b[39m \u001b[39m-\u001b[39m X) \u001b[39m@\u001b[39m zero_prob\n\u001b[1;32m     <a href='vscode-notebook-cell:/Users/bai/Desktop/ml/hw4/src/PS4-generative-models.ipynb#W5sZmlsZQ%3D%3D?line=47'>48</a>\u001b[0m \u001b[39mreturn\u001b[39;00m res, logsumexp(res, axis\u001b[39m=\u001b[39m\u001b[39m1\u001b[39m)\n",
      "\u001b[0;31mKeyboardInterrupt\u001b[0m: "
     ]
    }
   ],
   "source": [
    "experiment_name = \"mnist\"\n",
    "# --- MNIST DIGIT CLASSIFICATION setup\n",
    "Xtrain, Xval, num_classes, num_features = load_experiment(data_fn, experiment_name)\n",
    "\n",
    "# -- build naive bayes model for mnist digit classification\n",
    "print(\"MNIST DIGIT CLASSIFICATION -- NAIVE BAYES MODEL:\")\n",
    "nbm = NaiveBayesModel(num_classes, num_features)\n",
    "nbm.train(Xtrain)\n",
    "print(\"ACCURACY ON VALIDATION: \" + str(nbm.val(Xval)))\n",
    "print()\n",
    "\n",
    "# -- build mixture model for mnist digit classification\n",
    "print(\"MNIST DIGIT CLASSIFICATION -- MIXTURE MODEL:\")\n",
    "for i in range(MAX_OUTER_ITER):\n",
    "    num_mixture_components =  np.random.randint(2, 15, num_classes)\n",
    "    print(\"COMPONENTS: \" + \" \".join(str(i) for i in num_mixture_components))\n",
    "    mm = MixtureModel(num_classes, num_features, num_mixture_components)\n",
    "    mm.train(Xtrain)\n",
    "    print(\"ACCURACY ON VALIDATION: \" + str(mm.val(Xval)))\n",
    "    \n",
    "# submit to kaggle\n",
    "Xkaggle = load_data(data_fn, experiment_name, \"kaggle\")\n",
    "save_submission(\"mm-{}-submission.csv\".format(experiment_name), mm.classify(Xkaggle))"
   ]
  }
 ],
 "metadata": {
  "kernelspec": {
   "display_name": "Python 3",
   "language": "python",
   "name": "python3"
  },
  "language_info": {
   "codemirror_mode": {
    "name": "ipython",
    "version": 3
   },
   "file_extension": ".py",
   "mimetype": "text/x-python",
   "name": "python",
   "nbconvert_exporter": "python",
   "pygments_lexer": "ipython3",
   "version": "3.8.12"
  }
 },
 "nbformat": 4,
 "nbformat_minor": 0
}
